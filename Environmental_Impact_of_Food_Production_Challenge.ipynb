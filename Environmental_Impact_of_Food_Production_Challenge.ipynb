{
  "nbformat": 4,
  "nbformat_minor": 0,
  "metadata": {
    "colab": {
      "provenance": [],
      "collapsed_sections": [
        "9GEcx0aK8HxF"
      ],
      "include_colab_link": true
    },
    "kernelspec": {
      "name": "python3",
      "display_name": "Python 3"
    },
    "language_info": {
      "name": "python"
    }
  },
  "cells": [
    {
      "cell_type": "markdown",
      "metadata": {
        "id": "view-in-github",
        "colab_type": "text"
      },
      "source": [
        "<a href=\"https://colab.research.google.com/github/Bluceli1688/Instagram-likes/blob/main/Environmental_Impact_of_Food_Production_Challenge.ipynb\" target=\"_parent\"><img src=\"https://colab.research.google.com/assets/colab-badge.svg\" alt=\"Open In Colab\"/></a>"
      ]
    },
    {
      "cell_type": "markdown",
      "source": [
        " ![Emil](data:image/png;base64,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)"
      ],
      "metadata": {
        "id": "nrqXV-8p3cEc"
      }
    },
    {
      "cell_type": "code",
      "execution_count": 1,
      "metadata": {
        "id": "uUVYwUxO4lTo",
        "colab": {
          "base_uri": "https://localhost:8080/"
        },
        "outputId": "f548ce34-874d-4fcf-8006-3db46aa06f8a"
      },
      "outputs": [
        {
          "output_type": "stream",
          "name": "stdout",
          "text": [
            "Mounted at /content/drive\n"
          ]
        }
      ],
      "source": [
        "#To connect the notebook to our folder\n",
        "from google.colab import drive\n",
        "drive.mount('/content/drive')"
      ]
    },
    {
      "cell_type": "markdown",
      "source": [
        "### Importing libraries"
      ],
      "metadata": {
        "id": "YFl9LbVR5F5b"
      }
    },
    {
      "cell_type": "code",
      "source": [
        "import numpy as np\n",
        "import pandas as pd\n",
        "import datetime\n",
        "\n",
        "import plotly.express as px"
      ],
      "metadata": {
        "id": "s-1EnGj85L0u"
      },
      "execution_count": 2,
      "outputs": []
    },
    {
      "cell_type": "markdown",
      "source": [
        "### Importing dataset"
      ],
      "metadata": {
        "id": "HiMDfuZJ5MZF"
      }
    },
    {
      "cell_type": "markdown",
      "source": [
        "## Context\n",
        "In this exercise, you will be working with a dataset that contains information about the ecological impact of a food product. The objective is to gain a deeper understanding of how our food consumption can affect nature.\n",
        "\n",
        "---\n",
        "## Importing data\n",
        "\n",
        "1- Import the data with pandas\n",
        "\n",
        "2- Download and import Food_Production.csv to colab"
      ],
      "metadata": {
        "id": "NKrrIJaUbl49"
      }
    },
    {
      "cell_type": "markdown",
      "source": [
        "### Dataset Exploration"
      ],
      "metadata": {
        "id": "yDJJm_r25RbZ"
      }
    },
    {
      "cell_type": "markdown",
      "source": [
        "Let's explore the data\n",
        "\n",
        "3- How many lines and columns the dataset has? Use the .shape method."
      ],
      "metadata": {
        "id": "9o_TyKufBJSg"
      }
    },
    {
      "cell_type": "code",
      "source": [
        "file_path = \"Food_Production.csv\"\n",
        "df = pd.read_csv(file_path)\n",
        "\n",
        "print(\"The dataset has\", df.shape[0],\"rows and\",df.shape[1],\"columns.\")"
      ],
      "metadata": {
        "id": "cR5DEHtLnbgm",
        "outputId": "5ac43a9f-f14b-4b9c-b2ba-5931f780ef73",
        "colab": {
          "base_uri": "https://localhost:8080/"
        }
      },
      "execution_count": 6,
      "outputs": [
        {
          "output_type": "stream",
          "name": "stdout",
          "text": [
            "The dataset has 43 rows and 23 columns.\n"
          ]
        }
      ]
    },
    {
      "cell_type": "markdown",
      "source": [
        "4- Use the .info() method to get summary of the columns."
      ],
      "metadata": {
        "id": "s_rJ2cRVCfQe"
      }
    },
    {
      "cell_type": "code",
      "source": [
        "print(\"summary of the dataset:\")\n",
        "df.info()"
      ],
      "metadata": {
        "id": "SZgwqs8voy5l",
        "outputId": "b8f99fb5-4065-4313-b61c-04a727a789f6",
        "colab": {
          "base_uri": "https://localhost:8080/"
        }
      },
      "execution_count": 7,
      "outputs": [
        {
          "output_type": "stream",
          "name": "stdout",
          "text": [
            "summary of the dataset:\n",
            "<class 'pandas.core.frame.DataFrame'>\n",
            "RangeIndex: 43 entries, 0 to 42\n",
            "Data columns (total 23 columns):\n",
            " #   Column                                                                   Non-Null Count  Dtype  \n",
            "---  ------                                                                   --------------  -----  \n",
            " 0   Food product                                                             43 non-null     object \n",
            " 1   Land use change                                                          43 non-null     float64\n",
            " 2   Animal Feed                                                              43 non-null     float64\n",
            " 3   Farm                                                                     43 non-null     float64\n",
            " 4   Processing                                                               43 non-null     float64\n",
            " 5   Transport                                                                43 non-null     float64\n",
            " 6   Packging                                                                 43 non-null     float64\n",
            " 7   Retail                                                                   43 non-null     float64\n",
            " 8   Total_emissions                                                          43 non-null     float64\n",
            " 9   Eutrophying emissions per 1000kcal (gPO₄eq per 1000kcal)                 33 non-null     float64\n",
            " 10  Eutrophying emissions per kilogram (gPO₄eq per kilogram)                 38 non-null     float64\n",
            " 11  Eutrophying emissions per 100g protein (gPO₄eq per 100 grams protein)    27 non-null     float64\n",
            " 12  Freshwater withdrawals per 1000kcal (liters per 1000kcal)                30 non-null     float64\n",
            " 13  Freshwater withdrawals per 100g protein (liters per 100g protein)        26 non-null     float64\n",
            " 14  Freshwater withdrawals per kilogram (liters per kilogram)                38 non-null     float64\n",
            " 15  Greenhouse gas emissions per 1000kcal (kgCO₂eq per 1000kcal)             33 non-null     float64\n",
            " 16  Greenhouse gas emissions per 100g protein (kgCO₂eq per 100g protein)     27 non-null     float64\n",
            " 17  Land use per 1000kcal (m² per 1000kcal)                                  33 non-null     float64\n",
            " 18  Land use per kilogram (m² per kilogram)                                  38 non-null     float64\n",
            " 19  Land use per 100g protein (m² per 100g protein)                          27 non-null     float64\n",
            " 20  Scarcity-weighted water use per kilogram (liters per kilogram)           38 non-null     float64\n",
            " 21  Scarcity-weighted water use per 100g protein (liters per 100g protein)   26 non-null     float64\n",
            " 22  Scarcity-weighted water use per 1000kcal (liters per 1000 kilocalories)  30 non-null     float64\n",
            "dtypes: float64(22), object(1)\n",
            "memory usage: 7.9+ KB\n"
          ]
        }
      ]
    },
    {
      "cell_type": "markdown",
      "source": [
        "**5- What information we can find about the dataset?**\n",
        "\n",
        "In the dataset, we can find a variety of information about how our food consumption can impact nature. This includes data on factors such as the water requirements for producing one kilogram of a specific food type. This information is valuable for comparing different foods.\n",
        "\n",
        "However, it's worth noting that there are some Null values present in our dataset. These missing values will need to be addressed during the feature engineering process."
      ],
      "metadata": {
        "id": "HNjFP8FBBljH"
      }
    },
    {
      "cell_type": "markdown",
      "source": [
        "6- Use .describe() method to get statical summary of the columns"
      ],
      "metadata": {
        "id": "DPi7Cv6XCcL1"
      }
    },
    {
      "cell_type": "code",
      "source": [
        "print(\"Statistical summary of the dataset:\")\n",
        "print(df.describe())"
      ],
      "metadata": {
        "id": "UO0iXUyKpML1",
        "outputId": "ddd0a162-f32f-4f47-c9f7-2d9f53d1063c",
        "colab": {
          "base_uri": "https://localhost:8080/"
        }
      },
      "execution_count": 8,
      "outputs": [
        {
          "output_type": "stream",
          "name": "stdout",
          "text": [
            "Statistical summary of the dataset:\n",
            "       Land use change  Animal Feed       Farm  Processing  Transport  \\\n",
            "count        43.000000    43.000000  43.000000   43.000000  43.000000   \n",
            "mean          1.260465     0.453488   3.469767    0.253488   0.195349   \n",
            "std           3.357730     0.919200   7.083264    0.372475   0.158795   \n",
            "min          -2.100000     0.000000   0.100000    0.000000   0.000000   \n",
            "25%           0.000000     0.000000   0.350000    0.000000   0.100000   \n",
            "50%           0.200000     0.000000   0.800000    0.100000   0.100000   \n",
            "75%           0.800000     0.000000   2.200000    0.300000   0.200000   \n",
            "max          16.300000     2.900000  39.400000    1.300000   0.800000   \n",
            "\n",
            "        Packging     Retail  Total_emissions  \\\n",
            "count  43.000000  43.000000        43.000000   \n",
            "mean    0.269767   0.069767         5.972093   \n",
            "std     0.342633   0.110270        10.501753   \n",
            "min     0.000000   0.000000         0.200000   \n",
            "25%     0.100000   0.000000         0.850000   \n",
            "50%     0.100000   0.000000         1.600000   \n",
            "75%     0.300000   0.150000         6.000000   \n",
            "max     1.600000   0.300000        59.600000   \n",
            "\n",
            "       Eutrophying emissions per 1000kcal (gPO₄eq per 1000kcal)  \\\n",
            "count                                          33.000000          \n",
            "mean                                           27.181547          \n",
            "std                                            46.445959          \n",
            "min                                             0.708419          \n",
            "25%                                             4.214932          \n",
            "50%                                             7.000000          \n",
            "75%                                            26.324324          \n",
            "max                                           197.357143          \n",
            "\n",
            "       Eutrophying emissions per kilogram (gPO₄eq per kilogram)  ...  \\\n",
            "count                                          38.000000         ...   \n",
            "mean                                           46.141316         ...   \n",
            "std                                            82.808808         ...   \n",
            "min                                             0.690000         ...   \n",
            "25%                                             3.752500         ...   \n",
            "50%                                            11.460000         ...   \n",
            "75%                                            45.840000         ...   \n",
            "max                                           365.290000         ...   \n",
            "\n",
            "       Freshwater withdrawals per 100g protein (liters per 100g protein)  \\\n",
            "count                                          26.000000                   \n",
            "mean                                         1437.975324                   \n",
            "std                                          1441.981970                   \n",
            "min                                            32.375000                   \n",
            "25%                                           373.573281                   \n",
            "50%                                          1083.327273                   \n",
            "75%                                          1832.386339                   \n",
            "max                                          6003.333333                   \n",
            "\n",
            "       Freshwater withdrawals per kilogram (liters per kilogram)  \\\n",
            "count                                          38.000000           \n",
            "mean                                          932.605263           \n",
            "std                                          1296.999186           \n",
            "min                                             0.000000           \n",
            "25%                                           105.500000           \n",
            "50%                                           417.100000           \n",
            "75%                                          1340.375000           \n",
            "max                                          5605.200000           \n",
            "\n",
            "       Greenhouse gas emissions per 1000kcal (kgCO₂eq per 1000kcal)  \\\n",
            "count                                          33.000000              \n",
            "mean                                            5.633943              \n",
            "std                                            10.613575              \n",
            "min                                             0.069919              \n",
            "25%                                             0.628415              \n",
            "50%                                             1.351351              \n",
            "75%                                             5.335135              \n",
            "max                                            50.946429              \n",
            "\n",
            "       Greenhouse gas emissions per 100g protein (kgCO₂eq per 100g protein)  \\\n",
            "count                                          27.000000                      \n",
            "mean                                           13.524906                      \n",
            "std                                            19.427462                      \n",
            "min                                             0.263319                      \n",
            "25%                                             4.027439                      \n",
            "50%                                             6.500000                      \n",
            "75%                                            14.983333                      \n",
            "max                                            93.300000                      \n",
            "\n",
            "       Land use per 1000kcal (m² per 1000kcal)  \\\n",
            "count                                33.000000   \n",
            "mean                                 12.423165   \n",
            "std                                  28.348693   \n",
            "min                                   0.273756   \n",
            "25%                                   1.312500   \n",
            "50%                                   2.976244   \n",
            "75%                                   6.605405   \n",
            "max                                 119.490842   \n",
            "\n",
            "       Land use per kilogram (m² per kilogram)  \\\n",
            "count                                38.000000   \n",
            "mean                                 29.264474   \n",
            "std                                  78.490074   \n",
            "min                                   0.330000   \n",
            "25%                                   1.112500   \n",
            "50%                                   6.865000   \n",
            "75%                                  14.917500   \n",
            "max                                 369.810000   \n",
            "\n",
            "       Land use per 100g protein (m² per 100g protein)  \\\n",
            "count                                        27.000000   \n",
            "mean                                         29.105042   \n",
            "std                                          49.307339   \n",
            "min                                           3.000000   \n",
            "25%                                           5.088235   \n",
            "50%                                           7.936314   \n",
            "75%                                          23.002381   \n",
            "max                                         184.812594   \n",
            "\n",
            "       Scarcity-weighted water use per kilogram (liters per kilogram)  \\\n",
            "count                                          38.000000                \n",
            "mean                                        36607.428947                \n",
            "std                                         56891.283046                \n",
            "min                                             0.000000                \n",
            "25%                                          3325.075000                \n",
            "50%                                         14533.050000                \n",
            "75%                                         35960.175000                \n",
            "max                                        229889.800000                \n",
            "\n",
            "       Scarcity-weighted water use per 100g protein (liters per 100g protein)  \\\n",
            "count                                          26.000000                        \n",
            "mean                                        59196.438503                        \n",
            "std                                         89928.189299                        \n",
            "min                                           421.250000                        \n",
            "25%                                         11018.401008                        \n",
            "50%                                         20917.213595                        \n",
            "75%                                         70651.721023                        \n",
            "max                                        431620.000000                        \n",
            "\n",
            "       Scarcity-weighted water use per 1000kcal (liters per 1000 kilocalories)  \n",
            "count                                          30.000000                        \n",
            "mean                                        17380.575408                        \n",
            "std                                         16232.080209                        \n",
            "min                                             4.095023                        \n",
            "25%                                          2969.124983                        \n",
            "50%                                         12605.256790                        \n",
            "75%                                         28056.471593                        \n",
            "max                                         49735.882350                        \n",
            "\n",
            "[8 rows x 22 columns]\n"
          ]
        }
      ]
    },
    {
      "cell_type": "markdown",
      "source": [
        "**7- What are the first observations we can make about it? (missing values, NaNs, nulls, type)**\n"
      ],
      "metadata": {
        "id": "cNVCRgs9B4Zh"
      }
    },
    {
      "cell_type": "markdown",
      "source": [
        "8- What are the names of the columns of the dataset?"
      ],
      "metadata": {
        "id": "edzB0WrfDH-s"
      }
    },
    {
      "cell_type": "markdown",
      "source": [
        "**Do you think something should be done about it?**\n",
        "\n",
        "The column names in the dataset exhibit inconsistencies, such as the usage of underscores, spaces, missing letters, and excessively long names. It would be beneficial to standardize and normalize the column names to ensure consistency and improve readability."
      ],
      "metadata": {
        "id": "GPflP-kXDSJ-"
      }
    },
    {
      "cell_type": "markdown",
      "source": [
        "### Feature Engineering"
      ],
      "metadata": {
        "id": "25otBCF55XiH"
      }
    },
    {
      "cell_type": "markdown",
      "source": [
        "Now that we have explored the dataset we are going to clean it up so we can work with it!"
      ],
      "metadata": {
        "id": "9wfZSBl2Dxqu"
      }
    },
    {
      "cell_type": "markdown",
      "source": [
        "##### 9- Missing values"
      ],
      "metadata": {
        "id": "s5KGgIG_5dfj"
      }
    },
    {
      "cell_type": "markdown",
      "source": [
        "To replace the missing values, we can proceed with the following choices:\n",
        "\n",
        "*   Note our discoveries and determine if we can have NaN values in the dataset\n",
        "*   Replace missing values with a specific value or simply delete them\n",
        "*   Use wisely the missing data to have as much information as possible\n",
        "\n",
        "\n",
        "In our case, if we decided to delete all the rows that contains NaN value we'll lose too much information in our dataset. **Instead we'll keep all our information and make sure that we only gives non NaN values to our Data Vizualisation.**\n",
        "\n",
        "Let's see how! Our goal is to only keep the rows that have no NaN values in the column \"TestColumn\". To do so, we'll simply select the rows without NaN value by using a mask like this :\n",
        "\n",
        "```\n",
        "dataset_to_use_in_viz = dataset[~np.isnan(dataset[\"TestColumn\"])]\n",
        "```\n",
        "And now we can use dataset_to_use_in_viz freely!\n"
      ],
      "metadata": {
        "id": "L3RgxGaSBaNG"
      }
    },
    {
      "cell_type": "code",
      "source": [
        "import pandas as pd\n",
        "import numpy as np\n",
        "\n",
        "dataset_to_use_in_viz = df[~df[['Eutrophying emissions per 1000kcal (gPO₄eq per 1000kcal)',\\\n",
        "                               'Eutrophying emissions per kilogram (gPO₄eq per kilogram)',\\\n",
        "                               'Eutrophying emissions per 100g protein (gPO₄eq per 100 grams protein)',\\\n",
        "                               'Freshwater withdrawals per 1000kcal (liters per 1000kcal)',\\\n",
        "                               'Freshwater withdrawals per 100g protein (liters per 100g protein)',\\\n",
        "                               'Freshwater withdrawals per kilogram (liters per kilogram)',\\\n",
        "                               'Greenhouse gas emissions per 1000kcal (kgCO₂eq per 1000kcal)',\\\n",
        "                               'Greenhouse gas emissions per 100g protein (kgCO₂eq per 100g protein)',\\\n",
        "                               'Land use per 1000kcal (m² per 1000kcal)',\\\n",
        "                               'Land use per kilogram (m² per kilogram)',\\\n",
        "                               'Land use per 100g protein (m² per 100g protein)',\\\n",
        "                               'Scarcity-weighted water use per kilogram (liters per kilogram)',\\\n",
        "                               'Scarcity-weighted water use per 100g protein (liters per 100g protein)',\\\n",
        "                               'Scarcity-weighted water use per 1000kcal (liters per 1000 kilocalories)'\\\n",
        "]].isna().any(axis=1)]\n",
        "\n",
        "print(dataset_to_use_in_viz)\n",
        "\n",
        "\n",
        "\n"
      ],
      "metadata": {
        "id": "RaE3ic4JrdSk",
        "outputId": "d6c204ab-b7dd-47a3-c2c4-42afc27bd094",
        "colab": {
          "base_uri": "https://localhost:8080/"
        }
      },
      "execution_count": 14,
      "outputs": [
        {
          "output_type": "stream",
          "name": "stdout",
          "text": [
            "         Food product  Land use change  Animal Feed  Farm  Processing  \\\n",
            "3             Oatmeal              0.0          0.0   1.4         0.0   \n",
            "4                Rice              0.0          0.0   3.6         0.1   \n",
            "5            Potatoes              0.0          0.0   0.2         0.0   \n",
            "11               Nuts             -2.1          0.0   2.1         0.0   \n",
            "12         Groundnuts              0.4          0.0   1.4         0.4   \n",
            "20           Tomatoes              0.4          0.0   0.7         0.0   \n",
            "21     Onions & Leeks              0.0          0.0   0.2         0.0   \n",
            "22    Root Vegetables              0.0          0.0   0.2         0.0   \n",
            "23          Brassicas              0.0          0.0   0.3         0.0   \n",
            "25       Citrus Fruit             -0.1          0.0   0.3         0.0   \n",
            "26            Bananas              0.0          0.0   0.3         0.1   \n",
            "27             Apples              0.0          0.0   0.2         0.0   \n",
            "28   Berries & Grapes              0.0          0.0   0.7         0.0   \n",
            "31             Coffee              3.7          0.0  10.4         0.6   \n",
            "32     Dark Chocolate             14.3          0.0   3.7         0.2   \n",
            "33   Beef (beef herd)             16.3          1.9  39.4         1.3   \n",
            "34  Beef (dairy herd)              0.9          2.5  15.7         1.1   \n",
            "35      Lamb & Mutton              0.5          2.4  19.5         1.1   \n",
            "36           Pig Meat              1.5          2.9   1.7         0.3   \n",
            "37       Poultry Meat              2.5          1.8   0.7         0.4   \n",
            "38               Milk              0.5          0.2   1.5         0.1   \n",
            "39             Cheese              4.5          2.3  13.1         0.7   \n",
            "40               Eggs              0.7          2.2   1.3         0.0   \n",
            "41      Fish (farmed)              0.5          0.8   3.6         0.0   \n",
            "\n",
            "    Transport  Packging  Retail  Total_emissions  \\\n",
            "3         0.1       0.1     0.0              1.6   \n",
            "4         0.1       0.1     0.1              4.0   \n",
            "5         0.1       0.0     0.0              0.3   \n",
            "11        0.1       0.1     0.0              0.2   \n",
            "12        0.1       0.1     0.0              2.4   \n",
            "20        0.2       0.1     0.0              1.4   \n",
            "21        0.1       0.0     0.0              0.3   \n",
            "22        0.1       0.0     0.0              0.3   \n",
            "23        0.1       0.0     0.0              0.4   \n",
            "25        0.1       0.0     0.0              0.3   \n",
            "26        0.3       0.1     0.0              0.8   \n",
            "27        0.1       0.0     0.0              0.3   \n",
            "28        0.2       0.2     0.0              1.1   \n",
            "31        0.1       1.6     0.1             16.5   \n",
            "32        0.1       0.4     0.0             18.7   \n",
            "33        0.3       0.2     0.2             59.6   \n",
            "34        0.4       0.3     0.2             21.1   \n",
            "35        0.5       0.3     0.2             24.5   \n",
            "36        0.3       0.3     0.2              7.2   \n",
            "37        0.3       0.2     0.2              6.1   \n",
            "38        0.1       0.1     0.3              2.8   \n",
            "39        0.1       0.2     0.3             21.2   \n",
            "40        0.1       0.2     0.0              4.5   \n",
            "41        0.1       0.1     0.0              5.1   \n",
            "\n",
            "    Eutrophying emissions per 1000kcal (gPO₄eq per 1000kcal)  ...  \\\n",
            "3                                            4.281357         ...   \n",
            "4                                            9.514379         ...   \n",
            "5                                            4.754098         ...   \n",
            "11                                           3.113821         ...   \n",
            "12                                           2.437931         ...   \n",
            "20                                          39.526316         ...   \n",
            "21                                           8.756757         ...   \n",
            "22                                           4.351351         ...   \n",
            "23                                          29.470588         ...   \n",
            "25                                           7.000000         ...   \n",
            "26                                           5.483333         ...   \n",
            "27                                           3.020833         ...   \n",
            "28                                          10.736842         ...   \n",
            "31                                         197.357143         ...   \n",
            "32                                          16.843327         ...   \n",
            "33                                         110.406593         ...   \n",
            "34                                         133.805861         ...   \n",
            "35                                          30.640379         ...   \n",
            "36                                          31.958159         ...   \n",
            "37                                          26.324324         ...   \n",
            "38                                          17.750000         ...   \n",
            "39                                          25.418605         ...   \n",
            "40                                          15.111111         ...   \n",
            "41                                         131.351955         ...   \n",
            "\n",
            "    Freshwater withdrawals per 100g protein (liters per 100g protein)  \\\n",
            "3                                          371.076923                   \n",
            "4                                         3166.760563                   \n",
            "5                                          347.647059                   \n",
            "11                                        2531.414574                   \n",
            "12                                         707.524828                   \n",
            "20                                        3361.818182                   \n",
            "21                                         110.000000                   \n",
            "22                                         284.000000                   \n",
            "23                                        1085.454545                   \n",
            "25                                        1378.333333                   \n",
            "26                                        1272.222222                   \n",
            "27                                        6003.333333                   \n",
            "28                                        4196.000000                   \n",
            "31                                          32.375000                   \n",
            "32                                        1081.200000                   \n",
            "33                                         727.783350                   \n",
            "34                                        1375.025329                   \n",
            "35                                         900.949525                   \n",
            "36                                        1109.888752                   \n",
            "37                                         381.062356                   \n",
            "38                                        1903.636364                   \n",
            "39                                        2538.586957                   \n",
            "40                                         520.638068                   \n",
            "41                                        1618.636264                   \n",
            "\n",
            "    Freshwater withdrawals per kilogram (liters per kilogram)  \\\n",
            "3                                               482.4           \n",
            "4                                              2248.4           \n",
            "5                                                59.1           \n",
            "11                                             4133.8           \n",
            "12                                             1852.3           \n",
            "20                                              369.8           \n",
            "21                                               14.3           \n",
            "22                                               28.4           \n",
            "23                                              119.4           \n",
            "25                                               82.7           \n",
            "26                                              114.5           \n",
            "27                                              180.1           \n",
            "28                                              419.6           \n",
            "31                                               25.9           \n",
            "32                                              540.6           \n",
            "33                                             1451.2           \n",
            "34                                             2714.3           \n",
            "35                                             1802.8           \n",
            "36                                             1795.8           \n",
            "37                                              660.0           \n",
            "38                                              628.2           \n",
            "39                                             5605.2           \n",
            "40                                              577.7           \n",
            "41                                             3691.3           \n",
            "\n",
            "    Greenhouse gas emissions per 1000kcal (kgCO₂eq per 1000kcal)  \\\n",
            "3                                            0.945482              \n",
            "4                                            1.207271              \n",
            "5                                            0.628415              \n",
            "11                                           0.069919              \n",
            "12                                           0.556897              \n",
            "20                                          11.000000              \n",
            "21                                           1.351351              \n",
            "22                                           1.162162              \n",
            "23                                           3.000000              \n",
            "25                                           1.218750              \n",
            "26                                           1.433333              \n",
            "27                                           0.895833              \n",
            "28                                           2.684211              \n",
            "31                                          50.946429              \n",
            "32                                           9.023211              \n",
            "33                                          36.439560              \n",
            "34                                          12.197802              \n",
            "35                                          12.529968              \n",
            "36                                           5.150628              \n",
            "37                                           5.335135              \n",
            "38                                           5.250000              \n",
            "39                                           6.170543              \n",
            "40                                           3.243056              \n",
            "41                                           7.614525              \n",
            "\n",
            "    Greenhouse gas emissions per 100g protein (kgCO₂eq per 100g protein)  \\\n",
            "3                                            1.907692                      \n",
            "4                                            6.267606                      \n",
            "5                                            2.705882                      \n",
            "11                                           0.263319                      \n",
            "12                                           1.233766                      \n",
            "20                                          19.000000                      \n",
            "21                                           3.846154                      \n",
            "22                                           4.300000                      \n",
            "23                                           4.636364                      \n",
            "25                                           6.500000                      \n",
            "26                                           9.555556                      \n",
            "27                                          14.333333                      \n",
            "28                                          15.300000                      \n",
            "31                                          35.662500                      \n",
            "32                                          93.300000                      \n",
            "33                                          49.889669                      \n",
            "34                                          16.869301                      \n",
            "35                                          19.850075                      \n",
            "36                                           7.608158                      \n",
            "37                                           5.698614                      \n",
            "38                                           9.500000                      \n",
            "39                                          10.815217                      \n",
            "40                                           4.208724                      \n",
            "41                                           5.976759                      \n",
            "\n",
            "    Land use per 1000kcal (m² per 1000kcal)  \\\n",
            "3                                  2.897446   \n",
            "4                                  0.759631   \n",
            "5                                  1.202186   \n",
            "11                                 2.107317   \n",
            "12                                 1.570690   \n",
            "20                                 4.210526   \n",
            "21                                 1.054054   \n",
            "22                                 0.891892   \n",
            "23                                 3.235294   \n",
            "25                                 2.687500   \n",
            "26                                 3.216667   \n",
            "27                                 1.312500   \n",
            "28                                 4.228070   \n",
            "31                                38.607143   \n",
            "32                                13.338491   \n",
            "33                               119.490842   \n",
            "34                                15.838828   \n",
            "35                               116.659306   \n",
            "36                                 7.263598   \n",
            "37                                 6.605405   \n",
            "38                                14.916667   \n",
            "39                                22.684755   \n",
            "40                                 4.354167   \n",
            "41                                 4.698324   \n",
            "\n",
            "    Land use per kilogram (m² per kilogram)  \\\n",
            "3                                      7.60   \n",
            "4                                      2.80   \n",
            "5                                      0.88   \n",
            "11                                    12.96   \n",
            "12                                     9.11   \n",
            "20                                     0.80   \n",
            "21                                     0.39   \n",
            "22                                     0.33   \n",
            "23                                     0.55   \n",
            "25                                     0.86   \n",
            "26                                     1.93   \n",
            "27                                     0.63   \n",
            "28                                     2.41   \n",
            "31                                    21.62   \n",
            "32                                    68.96   \n",
            "33                                   326.21   \n",
            "34                                    43.24   \n",
            "35                                   369.81   \n",
            "36                                    17.36   \n",
            "37                                    12.22   \n",
            "38                                     8.95   \n",
            "39                                    87.79   \n",
            "40                                     6.27   \n",
            "41                                     8.41   \n",
            "\n",
            "    Land use per 100g protein (m² per 100g protein)  \\\n",
            "3                                          5.846154   \n",
            "4                                          3.943662   \n",
            "5                                          5.176471   \n",
            "11                                         7.936314   \n",
            "12                                         3.479756   \n",
            "20                                         7.272727   \n",
            "21                                         3.000000   \n",
            "22                                         3.300000   \n",
            "23                                         5.000000   \n",
            "25                                        14.333333   \n",
            "26                                        21.444444   \n",
            "27                                        21.000000   \n",
            "28                                        24.100000   \n",
            "31                                        27.025000   \n",
            "32                                       137.920000   \n",
            "33                                       163.595787   \n",
            "34                                        21.904762   \n",
            "35                                       184.812594   \n",
            "36                                        10.729295   \n",
            "37                                         7.055427   \n",
            "38                                        27.121212   \n",
            "39                                        39.759964   \n",
            "40                                         5.650685   \n",
            "41                                         3.687788   \n",
            "\n",
            "    Scarcity-weighted water use per kilogram (liters per kilogram)  \\\n",
            "3                                             18786.2                \n",
            "4                                             49576.3                \n",
            "5                                              2754.2                \n",
            "11                                           229889.8                \n",
            "12                                            61797.9                \n",
            "20                                             5335.7                \n",
            "21                                              932.0                \n",
            "22                                              929.2                \n",
            "23                                             8455.1                \n",
            "25                                             4662.7                \n",
            "26                                              661.9                \n",
            "27                                            12948.6                \n",
            "28                                            21162.1                \n",
            "31                                              337.0                \n",
            "32                                             2879.2                \n",
            "33                                            34732.5                \n",
            "34                                           119805.2                \n",
            "35                                           141925.0                \n",
            "36                                            66867.4                \n",
            "37                                            14177.9                \n",
            "38                                            19786.3                \n",
            "39                                           180850.6                \n",
            "40                                            17982.7                \n",
            "41                                            41572.2                \n",
            "\n",
            "    Scarcity-weighted water use per 100g protein (liters per 100g protein)  \\\n",
            "3                                        14450.923080                        \n",
            "4                                        69825.774650                        \n",
            "5                                        16201.176470                        \n",
            "11                                      140777.587300                        \n",
            "12                                       23605.003820                        \n",
            "20                                       48506.363640                        \n",
            "21                                        7169.230769                        \n",
            "22                                        9292.000000                        \n",
            "23                                       76864.545450                        \n",
            "25                                       77711.666670                        \n",
            "26                                        7354.444444                        \n",
            "27                                      431620.000000                        \n",
            "28                                      211621.000000                        \n",
            "31                                         421.250000                        \n",
            "32                                        5758.400000                        \n",
            "33                                       17418.505520                        \n",
            "34                                       60691.590680                        \n",
            "35                                       70927.036480                        \n",
            "36                                       41327.194070                        \n",
            "37                                        8185.854503                        \n",
            "38                                       59958.484850                        \n",
            "39                                       81906.974640                        \n",
            "40                                       16206.470800                        \n",
            "41                                       18229.423370                        \n",
            "\n",
            "    Scarcity-weighted water use per 1000kcal (liters per 1000 kilocalories)  \n",
            "3                                         7162.104461                        \n",
            "4                                        13449.891480                        \n",
            "5                                         3762.568306                        \n",
            "11                                       37380.455280                        \n",
            "12                                       10654.810340                        \n",
            "20                                       28082.631580                        \n",
            "21                                        2518.918919                        \n",
            "22                                        2511.351351                        \n",
            "23                                       49735.882350                        \n",
            "25                                       14570.937500                        \n",
            "26                                        1103.166667                        \n",
            "27                                       26976.250000                        \n",
            "28                                       37126.491230                        \n",
            "31                                         601.785714                        \n",
            "32                                         556.905222                        \n",
            "33                                       12722.527470                        \n",
            "34                                       43884.688640                        \n",
            "35                                       44771.293380                        \n",
            "36                                       27977.991630                        \n",
            "37                                        7663.729730                        \n",
            "38                                       32977.166670                        \n",
            "39                                       46731.421190                        \n",
            "40                                       12487.986110                        \n",
            "41                                       23224.692740                        \n",
            "\n",
            "[24 rows x 23 columns]\n"
          ]
        }
      ]
    },
    {
      "cell_type": "markdown",
      "source": [
        "##### 10- Negatives Values"
      ],
      "metadata": {
        "id": "R5D3V7oK5mFA"
      }
    },
    {
      "cell_type": "markdown",
      "source": [
        "Lately, many plantations/activities have been replaced by grasslands, abandoned pastures or just changed."
      ],
      "metadata": {
        "id": "Hts1SsOLEmqW"
      }
    },
    {
      "cell_type": "markdown",
      "source": [
        "To replace the negatives values we can proceed with following choices:\n",
        "\n",
        "*   Note our discoveries and provide scientific evidence regarding why they can be relevant\n",
        "*   Replace all negative values with a chosen value, or delete them\n",
        "\n",
        "To find out which are the negative values that belong to the numeric types we are going to use the method `select_dtypes`, which allows us to select only the data that belongs to the type we specify. For more information use this [link](https://pandas.pydata.org/docs/reference/api/pandas.DataFrame.select_dtypes.html).\n",
        "\n",
        "**11- Write a code that will give you the number of negative values in the dataset.**"
      ],
      "metadata": {
        "id": "eHASYcwLE0B7"
      }
    },
    {
      "cell_type": "code",
      "source": [
        "negative_values_count = (df.select_dtypes(include=['float64'])<0).sum().sum()\n",
        "print(negative_values_count)"
      ],
      "metadata": {
        "id": "bkqg9w3S1rtM",
        "outputId": "7b3401d7-0821-43fd-b3a6-5152ea6b34cd",
        "colab": {
          "base_uri": "https://localhost:8080/"
        }
      },
      "execution_count": 15,
      "outputs": [
        {
          "output_type": "stream",
          "name": "stdout",
          "text": [
            "4\n"
          ]
        }
      ]
    },
    {
      "cell_type": "markdown",
      "source": [
        "**12- In which dataset are these negative value ?**"
      ],
      "metadata": {
        "id": "o_njhgjxTFoZ"
      }
    },
    {
      "cell_type": "code",
      "source": [
        "columns_with_negatives = df.select_dtypes(include=['float64']).columns[(df.select_dtypes(include=['float64'])<0).any()]\n",
        "print(columns_with_negatives)"
      ],
      "metadata": {
        "id": "AuZaXDJh2qHk",
        "outputId": "86c6c383-b2cb-45ad-fe88-1fa600339ceb",
        "colab": {
          "base_uri": "https://localhost:8080/"
        }
      },
      "execution_count": 18,
      "outputs": [
        {
          "output_type": "stream",
          "name": "stdout",
          "text": [
            "Index(['Land use change'], dtype='object')\n"
          ]
        }
      ]
    },
    {
      "cell_type": "markdown",
      "source": [
        "**13- Replace the negative values with 0 and make sure that you do not have any negative values anymore.**"
      ],
      "metadata": {
        "id": "UQvJ7a-5Tkvw"
      }
    },
    {
      "cell_type": "code",
      "source": [
        "df_cleaned = df.copy()\n",
        "df_cleaned[df_cleaned.select_dtypes(include=['float64'])<0] = 0\n",
        "print(df_cleaned)"
      ],
      "metadata": {
        "id": "e5Nr1gIB384s",
        "outputId": "b0ef3c49-4764-4c52-dc94-c4864d20809d",
        "colab": {
          "base_uri": "https://localhost:8080/"
        }
      },
      "execution_count": 19,
      "outputs": [
        {
          "output_type": "stream",
          "name": "stdout",
          "text": [
            "           Food product  Land use change  Animal Feed  Farm  Processing  \\\n",
            "0   Wheat & Rye (Bread)              0.1          0.0   0.8         0.2   \n",
            "1          Maize (Meal)              0.3          0.0   0.5         0.1   \n",
            "2         Barley (Beer)              0.0          0.0   0.2         0.1   \n",
            "3               Oatmeal              0.0          0.0   1.4         0.0   \n",
            "4                  Rice              0.0          0.0   3.6         0.1   \n",
            "5              Potatoes              0.0          0.0   0.2         0.0   \n",
            "6               Cassava              0.6          0.0   0.2         0.0   \n",
            "7            Cane Sugar              1.2          0.0   0.5         0.0   \n",
            "8            Beet Sugar              0.0          0.0   0.5         0.2   \n",
            "9          Other Pulses              0.0          0.0   1.1         0.0   \n",
            "10                 Peas              0.0          0.0   0.7         0.0   \n",
            "11                 Nuts              0.0          0.0   2.1         0.0   \n",
            "12           Groundnuts              0.4          0.0   1.4         0.4   \n",
            "13              Soymilk              0.2          0.0   0.1         0.2   \n",
            "14                 Tofu              1.0          0.0   0.5         0.8   \n",
            "15          Soybean Oil              3.1          0.0   1.5         0.3   \n",
            "16             Palm Oil              3.1          0.0   2.1         1.3   \n",
            "17        Sunflower Oil              0.1          0.0   2.1         0.2   \n",
            "18         Rapeseed Oil              0.2          0.0   2.3         0.2   \n",
            "19            Olive Oil              0.0          0.0   4.3         0.7   \n",
            "20             Tomatoes              0.4          0.0   0.7         0.0   \n",
            "21       Onions & Leeks              0.0          0.0   0.2         0.0   \n",
            "22      Root Vegetables              0.0          0.0   0.2         0.0   \n",
            "23            Brassicas              0.0          0.0   0.3         0.0   \n",
            "24     Other Vegetables              0.0          0.0   0.2         0.1   \n",
            "25         Citrus Fruit              0.0          0.0   0.3         0.0   \n",
            "26              Bananas              0.0          0.0   0.3         0.1   \n",
            "27               Apples              0.0          0.0   0.2         0.0   \n",
            "28     Berries & Grapes              0.0          0.0   0.7         0.0   \n",
            "29                 Wine              0.0          0.0   0.6         0.1   \n",
            "30          Other Fruit              0.1          0.0   0.4         0.0   \n",
            "31               Coffee              3.7          0.0  10.4         0.6   \n",
            "32       Dark Chocolate             14.3          0.0   3.7         0.2   \n",
            "33     Beef (beef herd)             16.3          1.9  39.4         1.3   \n",
            "34    Beef (dairy herd)              0.9          2.5  15.7         1.1   \n",
            "35        Lamb & Mutton              0.5          2.4  19.5         1.1   \n",
            "36             Pig Meat              1.5          2.9   1.7         0.3   \n",
            "37         Poultry Meat              2.5          1.8   0.7         0.4   \n",
            "38                 Milk              0.5          0.2   1.5         0.1   \n",
            "39               Cheese              4.5          2.3  13.1         0.7   \n",
            "40                 Eggs              0.7          2.2   1.3         0.0   \n",
            "41        Fish (farmed)              0.5          0.8   3.6         0.0   \n",
            "42     Shrimps (farmed)              0.2          2.5   8.4         0.0   \n",
            "\n",
            "    Transport  Packging  Retail  Total_emissions  \\\n",
            "0         0.1       0.1     0.1              1.4   \n",
            "1         0.1       0.1     0.0              1.1   \n",
            "2         0.0       0.5     0.3              1.1   \n",
            "3         0.1       0.1     0.0              1.6   \n",
            "4         0.1       0.1     0.1              4.0   \n",
            "5         0.1       0.0     0.0              0.3   \n",
            "6         0.1       0.0     0.0              0.9   \n",
            "7         0.8       0.1     0.0              2.6   \n",
            "8         0.6       0.1     0.0              1.4   \n",
            "9         0.1       0.4     0.0              1.6   \n",
            "10        0.1       0.0     0.0              0.8   \n",
            "11        0.1       0.1     0.0              0.2   \n",
            "12        0.1       0.1     0.0              2.4   \n",
            "13        0.1       0.1     0.3              1.0   \n",
            "14        0.2       0.2     0.3              3.0   \n",
            "15        0.3       0.8     0.0              6.0   \n",
            "16        0.2       0.9     0.0              7.6   \n",
            "17        0.2       0.9     0.0              3.5   \n",
            "18        0.2       0.8     0.0              3.7   \n",
            "19        0.5       0.9     0.0              6.0   \n",
            "20        0.2       0.1     0.0              1.4   \n",
            "21        0.1       0.0     0.0              0.3   \n",
            "22        0.1       0.0     0.0              0.3   \n",
            "23        0.1       0.0     0.0              0.4   \n",
            "24        0.2       0.0     0.0              0.5   \n",
            "25        0.1       0.0     0.0              0.3   \n",
            "26        0.3       0.1     0.0              0.8   \n",
            "27        0.1       0.0     0.0              0.3   \n",
            "28        0.2       0.2     0.0              1.1   \n",
            "29        0.1       0.7     0.0              1.4   \n",
            "30        0.2       0.0     0.0              0.7   \n",
            "31        0.1       1.6     0.1             16.5   \n",
            "32        0.1       0.4     0.0             18.7   \n",
            "33        0.3       0.2     0.2             59.6   \n",
            "34        0.4       0.3     0.2             21.1   \n",
            "35        0.5       0.3     0.2             24.5   \n",
            "36        0.3       0.3     0.2              7.2   \n",
            "37        0.3       0.2     0.2              6.1   \n",
            "38        0.1       0.1     0.3              2.8   \n",
            "39        0.1       0.2     0.3             21.2   \n",
            "40        0.1       0.2     0.0              4.5   \n",
            "41        0.1       0.1     0.0              5.1   \n",
            "42        0.2       0.3     0.2             11.8   \n",
            "\n",
            "    Eutrophying emissions per 1000kcal (gPO₄eq per 1000kcal)  ...  \\\n",
            "0                                                 NaN         ...   \n",
            "1                                                 NaN         ...   \n",
            "2                                                 NaN         ...   \n",
            "3                                            4.281357         ...   \n",
            "4                                            9.514379         ...   \n",
            "5                                            4.754098         ...   \n",
            "6                                            0.708419         ...   \n",
            "7                                            4.820513         ...   \n",
            "8                                            1.541311         ...   \n",
            "9                                            5.008798         ...   \n",
            "10                                           2.173410         ...   \n",
            "11                                           3.113821         ...   \n",
            "12                                           2.437931         ...   \n",
            "13                                                NaN         ...   \n",
            "14                                                NaN         ...   \n",
            "15                                                NaN         ...   \n",
            "16                                           1.207014         ...   \n",
            "17                                           5.730769         ...   \n",
            "18                                           2.170814         ...   \n",
            "19                                           4.214932         ...   \n",
            "20                                          39.526316         ...   \n",
            "21                                           8.756757         ...   \n",
            "22                                           4.351351         ...   \n",
            "23                                          29.470588         ...   \n",
            "24                                                NaN         ...   \n",
            "25                                           7.000000         ...   \n",
            "26                                           5.483333         ...   \n",
            "27                                           3.020833         ...   \n",
            "28                                          10.736842         ...   \n",
            "29                                                NaN         ...   \n",
            "30                                                NaN         ...   \n",
            "31                                         197.357143         ...   \n",
            "32                                          16.843327         ...   \n",
            "33                                         110.406593         ...   \n",
            "34                                         133.805861         ...   \n",
            "35                                          30.640379         ...   \n",
            "36                                          31.958159         ...   \n",
            "37                                          26.324324         ...   \n",
            "38                                          17.750000         ...   \n",
            "39                                          25.418605         ...   \n",
            "40                                          15.111111         ...   \n",
            "41                                         131.351955         ...   \n",
            "42                                                NaN         ...   \n",
            "\n",
            "    Freshwater withdrawals per 100g protein (liters per 100g protein)  \\\n",
            "0                                                 NaN                   \n",
            "1                                                 NaN                   \n",
            "2                                                 NaN                   \n",
            "3                                          371.076923                   \n",
            "4                                         3166.760563                   \n",
            "5                                          347.647059                   \n",
            "6                                                 NaN                   \n",
            "7                                                 NaN                   \n",
            "8                                                 NaN                   \n",
            "9                                          203.503036                   \n",
            "10                                         178.487849                   \n",
            "11                                        2531.414574                   \n",
            "12                                         707.524828                   \n",
            "13                                                NaN                   \n",
            "14                                                NaN                   \n",
            "15                                                NaN                   \n",
            "16                                                NaN                   \n",
            "17                                                NaN                   \n",
            "18                                                NaN                   \n",
            "19                                                NaN                   \n",
            "20                                        3361.818182                   \n",
            "21                                         110.000000                   \n",
            "22                                         284.000000                   \n",
            "23                                        1085.454545                   \n",
            "24                                                NaN                   \n",
            "25                                        1378.333333                   \n",
            "26                                        1272.222222                   \n",
            "27                                        6003.333333                   \n",
            "28                                        4196.000000                   \n",
            "29                                                NaN                   \n",
            "30                                                NaN                   \n",
            "31                                          32.375000                   \n",
            "32                                        1081.200000                   \n",
            "33                                         727.783350                   \n",
            "34                                        1375.025329                   \n",
            "35                                         900.949525                   \n",
            "36                                        1109.888752                   \n",
            "37                                         381.062356                   \n",
            "38                                        1903.636364                   \n",
            "39                                        2538.586957                   \n",
            "40                                         520.638068                   \n",
            "41                                        1618.636264                   \n",
            "42                                                NaN                   \n",
            "\n",
            "    Freshwater withdrawals per kilogram (liters per kilogram)  \\\n",
            "0                                                 NaN           \n",
            "1                                                 NaN           \n",
            "2                                                 NaN           \n",
            "3                                               482.4           \n",
            "4                                              2248.4           \n",
            "5                                                59.1           \n",
            "6                                                 0.0           \n",
            "7                                               620.1           \n",
            "8                                               217.7           \n",
            "9                                               435.7           \n",
            "10                                              396.6           \n",
            "11                                             4133.8           \n",
            "12                                             1852.3           \n",
            "13                                               27.8           \n",
            "14                                                NaN           \n",
            "15                                              414.6           \n",
            "16                                                6.4           \n",
            "17                                             1007.9           \n",
            "18                                              237.7           \n",
            "19                                             2141.8           \n",
            "20                                              369.8           \n",
            "21                                               14.3           \n",
            "22                                               28.4           \n",
            "23                                              119.4           \n",
            "24                                              102.5           \n",
            "25                                               82.7           \n",
            "26                                              114.5           \n",
            "27                                              180.1           \n",
            "28                                              419.6           \n",
            "29                                               78.9           \n",
            "30                                              153.5           \n",
            "31                                               25.9           \n",
            "32                                              540.6           \n",
            "33                                             1451.2           \n",
            "34                                             2714.3           \n",
            "35                                             1802.8           \n",
            "36                                             1795.8           \n",
            "37                                              660.0           \n",
            "38                                              628.2           \n",
            "39                                             5605.2           \n",
            "40                                              577.7           \n",
            "41                                             3691.3           \n",
            "42                                                NaN           \n",
            "\n",
            "    Greenhouse gas emissions per 1000kcal (kgCO₂eq per 1000kcal)  \\\n",
            "0                                                 NaN              \n",
            "1                                                 NaN              \n",
            "2                                                 NaN              \n",
            "3                                            0.945482              \n",
            "4                                            1.207271              \n",
            "5                                            0.628415              \n",
            "6                                            1.355236              \n",
            "7                                            0.911681              \n",
            "8                                            0.515670              \n",
            "9                                            0.524927              \n",
            "10                                           0.283237              \n",
            "11                                           0.069919              \n",
            "12                                           0.556897              \n",
            "13                                                NaN              \n",
            "14                                                NaN              \n",
            "15                                                NaN              \n",
            "16                                           0.828054              \n",
            "17                                           0.407240              \n",
            "18                                           0.426471              \n",
            "19                                           0.613122              \n",
            "20                                          11.000000              \n",
            "21                                           1.351351              \n",
            "22                                           1.162162              \n",
            "23                                           3.000000              \n",
            "24                                                NaN              \n",
            "25                                           1.218750              \n",
            "26                                           1.433333              \n",
            "27                                           0.895833              \n",
            "28                                           2.684211              \n",
            "29                                                NaN              \n",
            "30                                                NaN              \n",
            "31                                          50.946429              \n",
            "32                                           9.023211              \n",
            "33                                          36.439560              \n",
            "34                                          12.197802              \n",
            "35                                          12.529968              \n",
            "36                                           5.150628              \n",
            "37                                           5.335135              \n",
            "38                                           5.250000              \n",
            "39                                           6.170543              \n",
            "40                                           3.243056              \n",
            "41                                           7.614525              \n",
            "42                                                NaN              \n",
            "\n",
            "    Greenhouse gas emissions per 100g protein (kgCO₂eq per 100g protein)  \\\n",
            "0                                                 NaN                      \n",
            "1                                                 NaN                      \n",
            "2                                                 NaN                      \n",
            "3                                            1.907692                      \n",
            "4                                            6.267606                      \n",
            "5                                            2.705882                      \n",
            "6                                           14.666667                      \n",
            "7                                                 NaN                      \n",
            "8                                                 NaN                      \n",
            "9                                            0.836058                      \n",
            "10                                           0.441044                      \n",
            "11                                           0.263319                      \n",
            "12                                           1.233766                      \n",
            "13                                                NaN                      \n",
            "14                                                NaN                      \n",
            "15                                                NaN                      \n",
            "16                                                NaN                      \n",
            "17                                                NaN                      \n",
            "18                                                NaN                      \n",
            "19                                                NaN                      \n",
            "20                                          19.000000                      \n",
            "21                                           3.846154                      \n",
            "22                                           4.300000                      \n",
            "23                                           4.636364                      \n",
            "24                                                NaN                      \n",
            "25                                           6.500000                      \n",
            "26                                           9.555556                      \n",
            "27                                          14.333333                      \n",
            "28                                          15.300000                      \n",
            "29                                                NaN                      \n",
            "30                                                NaN                      \n",
            "31                                          35.662500                      \n",
            "32                                          93.300000                      \n",
            "33                                          49.889669                      \n",
            "34                                          16.869301                      \n",
            "35                                          19.850075                      \n",
            "36                                           7.608158                      \n",
            "37                                           5.698614                      \n",
            "38                                           9.500000                      \n",
            "39                                          10.815217                      \n",
            "40                                           4.208724                      \n",
            "41                                           5.976759                      \n",
            "42                                                NaN                      \n",
            "\n",
            "    Land use per 1000kcal (m² per 1000kcal)  \\\n",
            "0                                       NaN   \n",
            "1                                       NaN   \n",
            "2                                       NaN   \n",
            "3                                  2.897446   \n",
            "4                                  0.759631   \n",
            "5                                  1.202186   \n",
            "6                                  1.858316   \n",
            "7                                  0.581197   \n",
            "8                                  0.521368   \n",
            "9                                  4.565982   \n",
            "10                                 2.156069   \n",
            "11                                 2.107317   \n",
            "12                                 1.570690   \n",
            "13                                      NaN   \n",
            "14                                      NaN   \n",
            "15                                      NaN   \n",
            "16                                 0.273756   \n",
            "17                                 1.997738   \n",
            "18                                 1.202489   \n",
            "19                                 2.976244   \n",
            "20                                 4.210526   \n",
            "21                                 1.054054   \n",
            "22                                 0.891892   \n",
            "23                                 3.235294   \n",
            "24                                      NaN   \n",
            "25                                 2.687500   \n",
            "26                                 3.216667   \n",
            "27                                 1.312500   \n",
            "28                                 4.228070   \n",
            "29                                      NaN   \n",
            "30                                      NaN   \n",
            "31                                38.607143   \n",
            "32                                13.338491   \n",
            "33                               119.490842   \n",
            "34                                15.838828   \n",
            "35                               116.659306   \n",
            "36                                 7.263598   \n",
            "37                                 6.605405   \n",
            "38                                14.916667   \n",
            "39                                22.684755   \n",
            "40                                 4.354167   \n",
            "41                                 4.698324   \n",
            "42                                      NaN   \n",
            "\n",
            "    Land use per kilogram (m² per kilogram)  \\\n",
            "0                                       NaN   \n",
            "1                                       NaN   \n",
            "2                                       NaN   \n",
            "3                                      7.60   \n",
            "4                                      2.80   \n",
            "5                                      0.88   \n",
            "6                                      1.81   \n",
            "7                                      2.04   \n",
            "8                                      1.83   \n",
            "9                                     15.57   \n",
            "10                                     7.46   \n",
            "11                                    12.96   \n",
            "12                                     9.11   \n",
            "13                                     0.66   \n",
            "14                                      NaN   \n",
            "15                                    10.52   \n",
            "16                                     2.42   \n",
            "17                                    17.66   \n",
            "18                                    10.63   \n",
            "19                                    26.31   \n",
            "20                                     0.80   \n",
            "21                                     0.39   \n",
            "22                                     0.33   \n",
            "23                                     0.55   \n",
            "24                                     0.38   \n",
            "25                                     0.86   \n",
            "26                                     1.93   \n",
            "27                                     0.63   \n",
            "28                                     2.41   \n",
            "29                                     1.78   \n",
            "30                                     0.89   \n",
            "31                                    21.62   \n",
            "32                                    68.96   \n",
            "33                                   326.21   \n",
            "34                                    43.24   \n",
            "35                                   369.81   \n",
            "36                                    17.36   \n",
            "37                                    12.22   \n",
            "38                                     8.95   \n",
            "39                                    87.79   \n",
            "40                                     6.27   \n",
            "41                                     8.41   \n",
            "42                                      NaN   \n",
            "\n",
            "    Land use per 100g protein (m² per 100g protein)  \\\n",
            "0                                               NaN   \n",
            "1                                               NaN   \n",
            "2                                               NaN   \n",
            "3                                          5.846154   \n",
            "4                                          3.943662   \n",
            "5                                          5.176471   \n",
            "6                                         20.111111   \n",
            "7                                               NaN   \n",
            "8                                               NaN   \n",
            "9                                          7.272303   \n",
            "10                                         3.357336   \n",
            "11                                         7.936314   \n",
            "12                                         3.479756   \n",
            "13                                              NaN   \n",
            "14                                              NaN   \n",
            "15                                              NaN   \n",
            "16                                              NaN   \n",
            "17                                              NaN   \n",
            "18                                              NaN   \n",
            "19                                              NaN   \n",
            "20                                         7.272727   \n",
            "21                                         3.000000   \n",
            "22                                         3.300000   \n",
            "23                                         5.000000   \n",
            "24                                              NaN   \n",
            "25                                        14.333333   \n",
            "26                                        21.444444   \n",
            "27                                        21.000000   \n",
            "28                                        24.100000   \n",
            "29                                              NaN   \n",
            "30                                              NaN   \n",
            "31                                        27.025000   \n",
            "32                                       137.920000   \n",
            "33                                       163.595787   \n",
            "34                                        21.904762   \n",
            "35                                       184.812594   \n",
            "36                                        10.729295   \n",
            "37                                         7.055427   \n",
            "38                                        27.121212   \n",
            "39                                        39.759964   \n",
            "40                                         5.650685   \n",
            "41                                         3.687788   \n",
            "42                                              NaN   \n",
            "\n",
            "    Scarcity-weighted water use per kilogram (liters per kilogram)  \\\n",
            "0                                                 NaN                \n",
            "1                                                 NaN                \n",
            "2                                                 NaN                \n",
            "3                                             18786.2                \n",
            "4                                             49576.3                \n",
            "5                                              2754.2                \n",
            "6                                                 0.0                \n",
            "7                                             16438.6                \n",
            "8                                              9493.3                \n",
            "9                                             22477.4                \n",
            "10                                            27948.2                \n",
            "11                                           229889.8                \n",
            "12                                            61797.9                \n",
            "13                                              955.6                \n",
            "14                                                NaN                \n",
            "15                                            14888.2                \n",
            "16                                               36.2                \n",
            "17                                            36369.4                \n",
            "18                                            10593.7                \n",
            "19                                           177480.2                \n",
            "20                                             5335.7                \n",
            "21                                              932.0                \n",
            "22                                              929.2                \n",
            "23                                             8455.1                \n",
            "24                                             4911.4                \n",
            "25                                             4662.7                \n",
            "26                                              661.9                \n",
            "27                                            12948.6                \n",
            "28                                            21162.1                \n",
            "29                                             1149.3                \n",
            "30                                             9533.1                \n",
            "31                                              337.0                \n",
            "32                                             2879.2                \n",
            "33                                            34732.5                \n",
            "34                                           119805.2                \n",
            "35                                           141925.0                \n",
            "36                                            66867.4                \n",
            "37                                            14177.9                \n",
            "38                                            19786.3                \n",
            "39                                           180850.6                \n",
            "40                                            17982.7                \n",
            "41                                            41572.2                \n",
            "42                                                NaN                \n",
            "\n",
            "    Scarcity-weighted water use per 100g protein (liters per 100g protein)  \\\n",
            "0                                                 NaN                        \n",
            "1                                                 NaN                        \n",
            "2                                                 NaN                        \n",
            "3                                        14450.923080                        \n",
            "4                                        69825.774650                        \n",
            "5                                        16201.176470                        \n",
            "6                                                 NaN                        \n",
            "7                                                 NaN                        \n",
            "8                                                 NaN                        \n",
            "9                                        10498.552080                        \n",
            "10                                       12577.947790                        \n",
            "11                                      140777.587300                        \n",
            "12                                       23605.003820                        \n",
            "13                                                NaN                        \n",
            "14                                                NaN                        \n",
            "15                                                NaN                        \n",
            "16                                                NaN                        \n",
            "17                                                NaN                        \n",
            "18                                                NaN                        \n",
            "19                                                NaN                        \n",
            "20                                       48506.363640                        \n",
            "21                                        7169.230769                        \n",
            "22                                        9292.000000                        \n",
            "23                                       76864.545450                        \n",
            "24                                                NaN                        \n",
            "25                                       77711.666670                        \n",
            "26                                        7354.444444                        \n",
            "27                                      431620.000000                        \n",
            "28                                      211621.000000                        \n",
            "29                                                NaN                        \n",
            "30                                                NaN                        \n",
            "31                                         421.250000                        \n",
            "32                                        5758.400000                        \n",
            "33                                       17418.505520                        \n",
            "34                                       60691.590680                        \n",
            "35                                       70927.036480                        \n",
            "36                                       41327.194070                        \n",
            "37                                        8185.854503                        \n",
            "38                                       59958.484850                        \n",
            "39                                       81906.974640                        \n",
            "40                                       16206.470800                        \n",
            "41                                       18229.423370                        \n",
            "42                                                NaN                        \n",
            "\n",
            "    Scarcity-weighted water use per 1000kcal (liters per 1000 kilocalories)  \n",
            "0                                                 NaN                        \n",
            "1                                                 NaN                        \n",
            "2                                                 NaN                        \n",
            "3                                         7162.104461                        \n",
            "4                                        13449.891480                        \n",
            "5                                         3762.568306                        \n",
            "6                                                 NaN                        \n",
            "7                                         4683.361823                        \n",
            "8                                         2704.643875                        \n",
            "9                                                 NaN                        \n",
            "10                                                NaN                        \n",
            "11                                       37380.455280                        \n",
            "12                                       10654.810340                        \n",
            "13                                                NaN                        \n",
            "14                                                NaN                        \n",
            "15                                                NaN                        \n",
            "16                                           4.095023                        \n",
            "17                                        4114.185520                        \n",
            "18                                        1198.382353                        \n",
            "19                                       20076.945700                        \n",
            "20                                       28082.631580                        \n",
            "21                                        2518.918919                        \n",
            "22                                        2511.351351                        \n",
            "23                                       49735.882350                        \n",
            "24                                                NaN                        \n",
            "25                                       14570.937500                        \n",
            "26                                        1103.166667                        \n",
            "27                                       26976.250000                        \n",
            "28                                       37126.491230                        \n",
            "29                                                NaN                        \n",
            "30                                                NaN                        \n",
            "31                                         601.785714                        \n",
            "32                                         556.905222                        \n",
            "33                                       12722.527470                        \n",
            "34                                       43884.688640                        \n",
            "35                                       44771.293380                        \n",
            "36                                       27977.991630                        \n",
            "37                                        7663.729730                        \n",
            "38                                       32977.166670                        \n",
            "39                                       46731.421190                        \n",
            "40                                       12487.986110                        \n",
            "41                                       23224.692740                        \n",
            "42                                                NaN                        \n",
            "\n",
            "[43 rows x 23 columns]\n"
          ]
        }
      ]
    },
    {
      "cell_type": "markdown",
      "source": [
        "The column names in the dataset are quite inconsistent (some use underscores, other spaces, there are letters missing, etc.) and some columns have long names.\n",
        "\n",
        "14- Rename all the columns with n uniform format. To do that, check the columns actual names by using the method `.columns` and then rename them by using `.rename()`\n"
      ],
      "metadata": {
        "id": "eFk_q2ipEYDa"
      }
    },
    {
      "cell_type": "code",
      "source": [
        "import re\n",
        "df_cleaned = df_cleaned.rename(columns=lambda x: re.sub(r'[\\s_]+', '_', x.strip()).lower())\n",
        "print(df_cleaned.columns)"
      ],
      "metadata": {
        "id": "0r3pQQxy42AL",
        "outputId": "62b9e371-9e6b-496a-dd81-bb55ee228020",
        "colab": {
          "base_uri": "https://localhost:8080/"
        }
      },
      "execution_count": 35,
      "outputs": [
        {
          "output_type": "stream",
          "name": "stdout",
          "text": [
            "Index(['foodproduct', 'landusechange', 'animalfeed', 'farm', 'processing',\n",
            "       'transport', 'packging', 'retail', 'total_emissions',\n",
            "       'eutrophyingemissionsper1000kcalgpo₄eqper1000kcal',\n",
            "       'eutrophyingemissionsperkilogramgpo₄eqperkilogram',\n",
            "       'eutrophyingemissionsper100gproteingpo₄eqper100gramsprotein',\n",
            "       'freshwaterwithdrawalsper1000kcallitersper1000kcal',\n",
            "       'freshwaterwithdrawalsper100gproteinlitersper100gprotein',\n",
            "       'freshwaterwithdrawalsperkilogramlitersperkilogram',\n",
            "       'greenhousegasemissionsper1000kcalkgco₂eqper1000kcal',\n",
            "       'greenhousegasemissionsper100gproteinkgco₂eqper100gprotein',\n",
            "       'landuseper1000kcalm²per1000kcal', 'landuseperkilogramm²perkilogram',\n",
            "       'landuseper100gproteinm²per100gprotein',\n",
            "       'scarcity-weightedwateruseperkilogramlitersperkilogram',\n",
            "       'scarcity-weightedwateruseper100gproteinlitersper100gprotein',\n",
            "       'scarcity-weightedwateruseper1000kcallitersper1000kilocalories'],\n",
            "      dtype='object')\n"
          ]
        }
      ]
    },
    {
      "cell_type": "markdown",
      "source": [
        "#### Data Transformation"
      ],
      "metadata": {
        "id": "_erU2yJu50vL"
      }
    },
    {
      "cell_type": "markdown",
      "source": [
        "##### **Create a \"Category\" column to cluster the different types of food products**"
      ],
      "metadata": {
        "id": "gpFpteWhD5jH"
      }
    },
    {
      "cell_type": "markdown",
      "source": [
        "**14- Given the following lists, write some code that will assign the correct category to each products.**\n",
        "\n",
        "\n",
        "\n",
        "```\n",
        "Grains = [\"Wheat & Rye (Bread)\", \"Maize (Meal)\", \"Oatmeal\", \"Barley (Beer)\", \"Rice\"]\n",
        "Nuts = ['Nuts', 'Groundnuts']\n",
        "Vegetables = [\"Potatoes\", \"Cassava\", 'Other Pulses',\"Peas\",'Tomatoes', 'Onions & Leeks','Root Vegetables',\"Brassicas\",'Other Vegetables']\n",
        "Fruits = ['Citrus Fruit', 'Bananas','Apples', 'Berries & Grapes', 'Other Fruit']\n",
        "Sugars = ['Cane Sugar', 'Beet Sugar',]\n",
        "Oils = ['Soybean Oil', 'Palm Oil', 'Sunflower Oil', 'Rapeseed Oil', 'Olive Oil']\n",
        "Dairy = [\"Soymilk\",'Milk', 'Cheese']\n",
        "Animal_Prod = ['Beef (beef herd)', 'Beef (dairy herd)','Lamb & Mutton', 'Pig Meat', 'Poultry Meat', 'Eggs', 'Fish (farmed)', 'Shrimps (farmed)']\n",
        "Other = [\"Tofu\", \"Coffee\", \"Dark Chocolate\", \"Wine\"]\n",
        "```\n",
        "\n"
      ],
      "metadata": {
        "id": "DJOCUoUbT__T"
      }
    },
    {
      "cell_type": "code",
      "source": [
        "Grains = [\"Wheat & Rye (Bread)\", \"Maize (Meal)\", \"Oatmeal\", \"Barley (Beer)\", \"Rice\"]\n",
        "Nuts = ['Nuts', 'Groundnuts']\n",
        "Vegetables = [\"Potatoes\", \"Cassava\", 'Other Pulses',\"Peas\",'Tomatoes', 'Onions & Leeks','Root Vegetables',\"Brassicas\",'Other Vegetables']\n",
        "Fruits = ['Citrus Fruit', 'Bananas','Apples', 'Berries & Grapes', 'Other Fruit']\n",
        "Sugars = ['Cane Sugar', 'Beet Sugar',]\n",
        "Oils = ['Soybean Oil', 'Palm Oil', 'Sunflower Oil', 'Rapeseed Oil', 'Olive Oil']\n",
        "Dairy = [\"Soymilk\",'Milk', 'Cheese']\n",
        "Animal_Prod = ['Beef (beef herd)', 'Beef (dairy herd)','Lamb & Mutton', 'Pig Meat', 'Poultry Meat', 'Eggs', 'Fish (farmed)', 'Shrimps (farmed)']\n",
        "Other = [\"Tofu\", \"Coffee\", \"Dark Chocolate\", \"Wine\"]\n",
        "\n",
        "def assign_category(product):\n",
        "    if product in Grains:\n",
        "        return \"Grains\"\n",
        "    elif product in Nuts:\n",
        "        return \"Nuts\"\n",
        "    elif product in Vegetables:\n",
        "        return \"Vegetables\"\n",
        "    elif product in Fruits:\n",
        "        return \"Fruits\"\n",
        "    elif product in Sugars:\n",
        "        return \"Sugars\"\n",
        "    elif product in Oils:\n",
        "        return \"Oils\"\n",
        "    elif product in Dairy:\n",
        "        return \"Dairy\"\n",
        "    elif product in Animal_Prod:\n",
        "        return \"Animal Products\"\n",
        "    elif product in Other:\n",
        "        return \"Other\"\n",
        "    else:\n",
        "        return \"Unknown\"\n",
        "\n",
        "# 应用函数创建新的 Category 列\n",
        "df_cleaned['Category'] = df_cleaned['foodproduct'].apply(assign_category)\n"
      ],
      "metadata": {
        "id": "HjBRMq2bAgCB"
      },
      "execution_count": 37,
      "outputs": []
    },
    {
      "cell_type": "markdown",
      "source": [
        "**15- Check how many values you have for each category.**"
      ],
      "metadata": {
        "id": "IycNNB4VUd4v"
      }
    },
    {
      "cell_type": "code",
      "source": [
        "category_counts = df_cleaned['Category'].value_counts()\n",
        "print(category_counts)"
      ],
      "metadata": {
        "id": "FuEPH_VjBmdS",
        "outputId": "05b3811a-1a17-4e8c-fc78-7318650742d5",
        "colab": {
          "base_uri": "https://localhost:8080/"
        }
      },
      "execution_count": 38,
      "outputs": [
        {
          "output_type": "stream",
          "name": "stdout",
          "text": [
            "Category\n",
            "Vegetables         9\n",
            "Animal Products    8\n",
            "Grains             5\n",
            "Oils               5\n",
            "Fruits             5\n",
            "Other              4\n",
            "Dairy              3\n",
            "Sugars             2\n",
            "Nuts               2\n",
            "Name: count, dtype: int64\n"
          ]
        }
      ]
    },
    {
      "cell_type": "markdown",
      "source": [
        "### Data Visualization"
      ],
      "metadata": {
        "id": "etQ47-Iq5_L9"
      }
    },
    {
      "cell_type": "markdown",
      "source": [
        "#### Greenhouse emissions"
      ],
      "metadata": {
        "id": "VOyotn1-8gm4"
      }
    },
    {
      "cell_type": "markdown",
      "source": [
        "**16- Plot the Average Total emission by category using scatter plot**"
      ],
      "metadata": {
        "id": "vHODRW5XOvS2"
      }
    },
    {
      "cell_type": "code",
      "source": [
        "import matplotlib.pyplot as plt\n",
        "\n",
        "total_emissions_by_category = df_cleaned.groupby('Category')['total_emissions'].sum().reset_index()\n",
        "\n",
        "plt.figure(figsize=(12, 6))\n",
        "plt.bar(total_emissions_by_category['Category'], total_emissions_by_category['total_emissions'], color='skyblue')\n",
        "plt.xticks(rotation=90)\n",
        "plt.xlabel(\"Food Category\")\n",
        "plt.ylabel(\"Total Emissions\")\n",
        "plt.title(\"Total Emissions by Food category\")\n",
        "plt.tight_layout()\n",
        "plt.show()\n"
      ],
      "metadata": {
        "id": "qzCugeyuC47K",
        "outputId": "fc5e8935-728d-46d2-a1f4-7109eff2db88",
        "colab": {
          "base_uri": "https://localhost:8080/",
          "height": 607
        }
      },
      "execution_count": 39,
      "outputs": [
        {
          "output_type": "display_data",
          "data": {
            "text/plain": [
              "<Figure size 1200x600 with 1 Axes>"
            ],
            "image/png": "[encoded data removed]"
          },
          "metadata": {}
        }
      ]
    },
    {
      "cell_type": "markdown",
      "source": [
        "#### Total emissions by food product\n",
        "\n",
        "**17- Plot the Total emission by food product using a bar plot**\n"
      ],
      "metadata": {
        "id": "7SR4_JBc6ctE"
      }
    },
    {
      "cell_type": "code",
      "source": [
        "import matplotlib.pyplot as plt\n",
        "\n",
        "total_emissions_by_food = df_cleaned.groupby('foodproduct')['total_emissions'].sum().reset_index()\n",
        "\n",
        "plt.figure(figsize=(12, 6))\n",
        "plt.bar(total_emissions_by_food['foodproduct'], total_emissions_by_food['total_emissions'], color='skyblue')\n",
        "plt.xticks(rotation=90)\n",
        "plt.xlabel(\"Food Product\")\n",
        "plt.ylabel(\"Total Emissions\")\n",
        "plt.title(\"Total Emissions by Food Product\")\n",
        "plt.tight_layout()\n",
        "plt.show()\n"
      ],
      "metadata": {
        "id": "3jqdtJAZDxZr",
        "outputId": "3ea62649-82da-4f49-9056-77de902422da",
        "colab": {
          "base_uri": "https://localhost:8080/",
          "height": 607
        }
      },
      "execution_count": 42,
      "outputs": [
        {
          "output_type": "display_data",
          "data": {
            "text/plain": [
              "<Figure size 1200x600 with 1 Axes>"
            ],
            "image/png": "[encoded data removed]"
          },
          "metadata": {}
        }
      ]
    },
    {
      "cell_type": "markdown",
      "source": [
        "**18- Which types of food have more negative impact on the environment? What conclusions can youd draw?**\n"
      ],
      "metadata": {
        "id": "lvJC_N7G7o1E"
      }
    },
    {
      "cell_type": "code",
      "source": [
        "# Beef obviously have more negative impact on the environment"
      ],
      "metadata": {
        "id": "ae2ogeQhEPBp"
      },
      "execution_count": null,
      "outputs": []
    },
    {
      "cell_type": "markdown",
      "source": [
        "#### Total emissions by product category\n",
        "\n",
        "**19- Plot the SUM of Total emission by Category using a bar plot**\n",
        "\n"
      ],
      "metadata": {
        "id": "7FYCyNSw68Iv"
      }
    },
    {
      "cell_type": "code",
      "source": [
        "import matplotlib.pyplot as plt\n",
        "\n",
        "# 分组计算每个类别的总排放量\n",
        "total_emission_by_category = df_cleaned.groupby('Category')['total_emissions'].sum().reset_index()\n",
        "\n",
        "# 绘制条形图\n",
        "plt.figure(figsize=(10, 6))\n",
        "plt.bar(total_emission_by_category['Category'], total_emission_by_category['total_emissions'], color='skyblue')\n",
        "plt.xticks(rotation=45)  # 旋转X轴标签，防止重叠\n",
        "plt.xlabel(\"Category\")\n",
        "plt.ylabel(\"Sum of Total Emissions\")\n",
        "plt.title(\"Sum of Total Emissions by Category\")\n",
        "plt.tight_layout()\n",
        "plt.show()\n"
      ],
      "metadata": {
        "id": "IcQ4mx7yFJ-A",
        "outputId": "868870ba-69e3-4885-d76c-27c3f852fa25",
        "colab": {
          "base_uri": "https://localhost:8080/",
          "height": 607
        }
      },
      "execution_count": 43,
      "outputs": [
        {
          "output_type": "display_data",
          "data": {
            "text/plain": [
              "<Figure size 1000x600 with 1 Axes>"
            ],
            "image/png": "[encoded data removed]"
          },
          "metadata": {}
        }
      ]
    },
    {
      "cell_type": "markdown",
      "source": [
        "**20- Plot the SUM of Total emission by Category using a pie chart**\n"
      ],
      "metadata": {
        "id": "7cnCNsmgWR9u"
      }
    },
    {
      "cell_type": "code",
      "source": [
        "import matplotlib.pyplot as plt\n",
        "\n",
        "# 分组计算每个类别的总排放量\n",
        "total_emission_by_category = df_cleaned.groupby('Category')['total_emissions'].sum()\n",
        "\n",
        "# 绘制饼图\n",
        "plt.figure(figsize=(8, 8))\n",
        "plt.pie(total_emission_by_category, labels=total_emission_by_category.index, autopct='%1.1f%%', startangle=140)\n",
        "plt.title(\"Sum of Total Emissions by Category\")\n",
        "plt.show()\n"
      ],
      "metadata": {
        "id": "sSsIHoVlFYrw",
        "outputId": "9a1c4718-8e2a-4fb2-c771-d84cefe669de",
        "colab": {
          "base_uri": "https://localhost:8080/",
          "height": 675
        }
      },
      "execution_count": 44,
      "outputs": [
        {
          "output_type": "display_data",
          "data": {
            "text/plain": [
              "<Figure size 800x800 with 1 Axes>"
            ],
            "image/png": "[encoded data removed]"
          },
          "metadata": {}
        }
      ]
    },
    {
      "cell_type": "markdown",
      "source": [
        "#### 21- Which stage of food production contributes more to greenhouse gas emission?"
      ],
      "metadata": {
        "id": "dTIcK_Dz7O1D"
      }
    },
    {
      "cell_type": "markdown",
      "source": [
        "**22- Plot the Total emission by supply chain using a bar chart**\n",
        "\n",
        "Stages of supply chain:\n",
        "1. Land usage\n",
        "2. Farm\n",
        "3. Animal Feed\n",
        "4. Processing\n",
        "5. Transport\n",
        "6. Retail\n",
        "7. Packaging"
      ],
      "metadata": {
        "id": "7LiwsmONYCXb"
      }
    },
    {
      "cell_type": "code",
      "source": [
        "import matplotlib.pyplot as plt\n",
        "\n",
        "# 定义供应链各阶段的列名（根据题目中给出的字段）\n",
        "supply_chain_stages = ['landusechange','farm','animalfeed','processing','transport','retail','packging']\n",
        "\n",
        "# 计算每个阶段的总排放量\n",
        "total_emission_by_stage = df_cleaned[supply_chain_stages].sum()\n",
        "\n",
        "# 绘制条形图\n",
        "plt.figure(figsize=(10, 6))\n",
        "plt.bar(total_emission_by_stage.index, total_emission_by_stage.values, color='lightcoral')\n",
        "plt.xticks(rotation=45)  # 旋转X轴标签以防重叠\n",
        "plt.xlabel(\"Supply Chain Stage\")\n",
        "plt.ylabel(\"Total Emissions\")\n",
        "plt.title(\"Total Emissions by Supply Chain Stage\")\n",
        "plt.tight_layout()\n",
        "plt.show()\n"
      ],
      "metadata": {
        "id": "qm2-kRJ_HSoS",
        "outputId": "05bf6abb-416f-4d0d-9004-522fd0124971",
        "colab": {
          "base_uri": "https://localhost:8080/",
          "height": 607
        }
      },
      "execution_count": 47,
      "outputs": [
        {
          "output_type": "display_data",
          "data": {
            "text/plain": [
              "<Figure size 1000x600 with 1 Axes>"
            ],
            "image/png": "[encoded data removed]"
          },
          "metadata": {}
        }
      ]
    },
    {
      "cell_type": "markdown",
      "source": [
        "**23- Plot the Total emissions by Food Product using a bar plot. Add the Supply chain as color.**\n"
      ],
      "metadata": {
        "id": "fw9vh97EWSNu"
      }
    },
    {
      "cell_type": "markdown",
      "source": [
        "**24- Plot the Total emissions by Food Product using a bar plot. Add the Category as color.**"
      ],
      "metadata": {
        "id": "GWQ1v04BXECV"
      }
    },
    {
      "cell_type": "markdown",
      "source": [
        "**25- How can we promote sustainable and nutritious food production?**\n",
        "\n"
      ],
      "metadata": {
        "id": "b52nX-re7r4j"
      }
    },
    {
      "cell_type": "markdown",
      "source": [
        "**26- Plot a bar chart that displays the land used to produce 1 Kg of Food**\n",
        "\n",
        "Be careful here! You might face some issues while working with NaN values. Make sure to follow the steps explained earlier!"
      ],
      "metadata": {
        "id": "Cx7lLyrZ8Vjh"
      }
    },
    {
      "cell_type": "markdown",
      "source": [
        "**27- Plot a bar chart that displays the land used to produce 1000kcal for every food product**\n"
      ],
      "metadata": {
        "id": "lLMNrE_wbMLd"
      }
    },
    {
      "cell_type": "markdown",
      "source": [
        "**28- Plot a bar chart that displays the water used to produce 1000kcal for every food product**\n"
      ],
      "metadata": {
        "id": "G6wAOsLJc7Md"
      }
    },
    {
      "cell_type": "markdown",
      "source": [
        "**29- Plot a bar chart that displays the water used to produce 1Kg for every food product**"
      ],
      "metadata": {
        "id": "jBDCpiF68Zko"
      }
    },
    {
      "cell_type": "markdown",
      "source": [
        "#### Heatmap to check the relation among different attributes of foods"
      ],
      "metadata": {
        "id": "TJiKK9PiqHpi"
      }
    },
    {
      "cell_type": "markdown",
      "source": [
        "### Conclusion"
      ],
      "metadata": {
        "id": "wYyDQQyvfQT9"
      }
    },
    {
      "cell_type": "markdown",
      "source": [
        "**30- What can be the strategy to reduce greenhouse gas emissions regarding our food consumption?**\n",
        "\n",
        "\n"
      ],
      "metadata": {
        "id": "iwfbdl1-9L5u"
      }
    }
  ]
}