{
  "nbformat": 4,
  "nbformat_minor": 0,
  "metadata": {
    "colab": {
      "provenance": [],
      "collapsed_sections": [
        "9GEcx0aK8HxF"
      ],
      "include_colab_link": true
    },
    "kernelspec": {
      "name": "python3",
      "display_name": "Python 3"
    },
    "language_info": {
      "name": "python"
    }
  },
  "cells": [
    {
      "cell_type": "markdown",
      "metadata": {
        "id": "view-in-github",
        "colab_type": "text"
      },
      "source": [
        "<a href=\"https://colab.research.google.com/github/Bluceli1688/Instagram-likes/blob/main/Environmental_Impact_of_Food_Production_Challenge.ipynb\" target=\"_parent\"><img src=\"https://colab.research.google.com/assets/colab-badge.svg\" alt=\"Open In Colab\"/></a>"
      ]
    },
    {
      "cell_type": "markdown",
      "source": [
        " ![Emil](data:image/png;base64,iVBORw0KGgoAAAANSUhEUgAAAbYAAABzCAMAAADDhdfxAAAAyVBMVEX////mDwUbGiHlAAAAAADmDQH5zszpS0npNC/+7ezvcm4ZGCAAAA4AAAn97+71qaYPDhfb29yenqDT09SzsrRfX2PZ2doVFBzwdnPnJyPwjIuMjI++vr4NCxXxgX7xhYKVlZf72tnt7e4EABD29vbk5OUzMjf4w8DLy8zw8PA8O0CpqatWVlr+9vX4ycdIR0spKC54eHtmZmntYV2Af4IiISdPT1PznpzpPTn3ubb72NdvbnH1rKrnHBTylJHuamXrSUTsYV7rVVIDzG+MAAARjUlEQVR4nO2dC1PiPBfHkQaVbeuWa1Rat0LBclEQAS+ou4/f/0O9Sdpcm3KtOvj2P7MzKw1pk19PcnJyWgqFXLlyfaXK7x8nn66P8+PvbufP0vOR8TU6/+6W/iQ9GqWjL1HJ+Lj97sb+GN18FTUk4893t/bH6Mn4MmrI3q6/u7k/RHdfaGy5uWWm9y80NoTt47vb+0N0/rXYnnKnJBP9+lpsp+XvbvDPUI7tIJVjO0jl2A5SObaDVI7tIJVjO0jl2A5SObaDVI7tIJVjO0jl2A5SObaDVI7tIJVjO0jl2A5SObaDVI7tIJVjO0jl2A5Sm2ArrcoQ3ypfL8eWkVZio7xO//335/Lx8fX5+fia6ub5+fHx8u/J2zbwcmwZKQ0bIXbxcf7n9fjs7DY9Te729uz4/fxpQ3KrsdUasabt7Bv6s6THVjLeTs6fr8ubZjWeXb//2wTcamw+cCKBWhZN+8nSYjPeXrdP1r/7a6ydJ1djq9rFSDm2ddJhKx2d7VTXy1pwObaMpMNm3Oxa28vT6pEyx5aRNNhKb3sk6r+vNLgcW0bSYbvYp8K7ixXccmwZKRXb8bks7KM8/xI/+fWIPjq7Qv+7fLzhTuf1igcdc2wZKRXblRINwQ8UKh+9Ic/lmP7x7536MWfp3HJsGWkFNrnDMbZSSS6HQL3ExfDy/E9sceXU+S3HlpGywkbIvcWvHrlO8ydzbBkpQ2yokPEc1fo7xdz2w1ZxW9MBUqNVb2bcDXp1Q3foD92wslHRemuzorghru/7VbcWbFLxEJX1lbKZYkMGF3P70HPbA1tQXxRty4NIjgXgwO+m1lMf0eCm0onBLCXo6dJvjHitzdZ47gFg2cAqDmY1qZhy7oo/nndQUQA683GLnNSnRRPh1dr9YA6AbaGKnV7D7avH6bW30P/bw8XcAhYuC3szoVeyxYa4RePki36Y3B3bcAAcs8hkQnvSSgs4D1lssyUfaAIvPlCVDyzjb3iAgq4sHRua7GyW3WjyoCmoi1+uLE2xqO0sEdWxFRdV7hx30ekIhR3Qqyrg4nNYi6DgTnijTdixlqzFGWNDYM7S6t0DW3cEYFERAufq62nTtsKBfKBlxd91GtLn/QlUPq92OqZ8Og8MC378fVvEVoVKUdNCF7aIawSSYTYbwFGbAQbSTVAA8aWMAl9pNKqYdkzW2I6MX6RevVeyI7aa56nQohb7+opGcd+Ynnyvj1k3AMlSXUA/jqwwuAdm4mwmqOqwTTVFoV0f6bDVLV07ILjXYIPjKUgWtZufhK0URzQftFsLO2Fzk6ZGe/JeWxHDYEuDYc1jPYxMR9A97U0QDViNZIdhWT0zgW1k60qa9pzWKGDT3QxRfT3B36Dnhqpdkg/n7c/BdmQ8kYq1zuRO2GowhRouOdNV1O7F34Bjbf1oyJuKxQdQ+nSpRYFp0G5m2BppRdkFcmwz/c1ATjzg1p9eCqsz/SRsR5E3Wc4KW3vAbzvkQyLZgnNiD3U1LZn5iINhj+M3TeFAjY2RBEdd7jjTTNgIw1ZVisJEUY5ttoqwNWL2pmCDyD0RqwXuZ2E7Iae/0Exuu2C7Z82F9qJVr1Vcv+GwOQKauoVASIcjcTCsdMTuFKanGT0AcN+1PaGTIPK8TQd4sr1TbE2BqOkBbzIxbUsuyrDJNwNaxUCJMR82pHKe3Vs0RgPe3qLXWIOtJCrCJn1mvJVxTLKUUPQeu7+6nbztsYUWbV2nxzzHSoP6hEVrqqlJHfbk6smBJT/ACpPPZqzqIrQGfq1Zabr3E0vsY4qtIfQmbNSb3W6l1urZEo4YW9sUTN3q9AaLcQ/awmc2bZyAzfQaIR4V+rWlxxcClVXYHpW48W/02T/5IzyJXeuS8J6jCjLBxoZIYRxBarHWaUMq1IBMwL80Fu0ATpiV1uiYS3quzXvdmzOT7LdEdyLGVuOev71gcZvAF2gwbEt+MzjgPiRXVfPnwi0yCFRspjBWDHl7h6uwbarbckJRRFnnk2yPLaSX643lSBDj5um8SWW6wmrLkwYI6QE/Pi2cB8JfyLoX4hlDgVuM7Z6NurZk8mGRc4uxVfjJgRCJEe4+Np7zT6TlIZuuydoy821SptdMsE3jqzXnyhwWjKkZAk1kL5AHPqn2+ADraVq0g6eXgK6T+e0fK0z0J/vAW8hnD4WVRldqBvrAV2qlRWGxoNQqxQSa9PLhpPCZ2G4ywcZWYC21tJs0KEF0ZQwn1GUcyesgSNdKzFPpYPursGGLm2OsGTeuunQBiVuq0GK3SIStwnwXNd5WcNmgHM9uHJt8AdQPNvHSTZtLkknqcCbYaNeYMOEwBj3RSlSxUYn2fpvVJFJCGtIxkqzx6uljb1dZt7Hh1EpcQHvOMJHrZgsFZ6EW5RG3TnRGttxWrJ3GBIhPos3c+vX6exc9X4u5Q5lgY/POOKyFkmohjR/BhW7/g42ScffTOR22OjJt6qlYLbFzksYmjHQRtgYNocHkNhJzRyNszNI1/hMbz01I/maEFReZjh+m00xLb91ZD78ZuUywsYkYgoSo2ZhF3VZAlQHvi33uNJrxesk0o16j3WQ1JRZWskoeMyPYWChmkNh84UZLsPX1URvKwxbLMmziEkWsktwl2T4ohVMTrsoZYlukx7W4gG7F3aWtjMyGLqLRREjrtMgBaoXOiEAcaxZ8VGyGirDRSUntX6y+hI0ty7UxnS6zTFfEZimzoLse28pHo9IUxVDQVx8zwxbMU4Kv67HJDiKjg9xOepqoX6g92z45If2W5Wv6lxoNwRasXIFI2ELqzHi6NWaf3ioR1J2xlYzTXURYl/DXH26zwlbcCJt23425GmTTjY6RC+w6RpUST7ofW6FptWUyGrtgpihj07pE1L4ibHRaMrU7u3RgjvYrdsVWMl7PdlG5/PL+QcAZJ2cZYUuGcTfG1qVzGL7Fu/FGKOlw6iDgnWfaGfEGKS23DbYNrC0eT/WzMDP4yMJ3xrbPuu34AWfbGR/Xt1lESTa0Nn3eDaWDh794PjdJ4Jn6APjupp5jHKPoD1ZgY5FOBZtmbgu0g6RmGYPLsgvda5Dcc7l982ZEvmiS2vbYBsxd7Fip0s9tzPXCg2HcM9GyiXor6C/m48WhlmCwYjHYnUguCZ134Ti5AHElbDUa7O8kVxXC7iD4TmyFMslKziYFiA77eN2WLn11fMCr0GSRKKDCBjvQprFL5jgu6AkHyQpr9PoibIuU1AesFtsL6kpX4muuk8dPCdQMsN1cnZYuTh7XPqN4/fsJOSSnccHb1MeltsZGA0o8RrWFmJM4dKOaaRSKjZJDuixm0yNbUmsinb6MjQW7OonJrT+no0Q0EtD7hMYdJfEVPvlzb2x35JFs/O/XyucUby+PsPuPS56T1fbZg6EfJbfGxvYr9G7HatGGwtEyHiPj4GyFHYj70wT0OxxNNVEfG7FteRc8GZP0lZgkD5okp8wmnb9jA98X2yN7GrtkXKwwuLMTZlwl4ynigl+koNkn3RQbmwLoNKSmyOFDLT9SKy3RlU4aPBxPg84UAM1S4V4FG7GSM5arhJLZkrrojeSSoansALA4P0wQLoxYyCy6UfbE9opgxMtu/DR3an/fnhh0fY59/ydumKfJ9KANsfGYPsv/6Kjmdg+oR6Kb56Mi1INTrcKXN3GKFqu8PWHDm6/UxlNR4o2bBdtTsKVhstLjmw0RNjabFr2FMtqzFBOzE13dfthwXjEa9G7u7n6f4v+epD1i+k6oXt7d3b0TH5L/AmnS3DbEJoQo2GfqfRqyHNZ5aoXCFhnpMmZTTfkAWXjHYlFQ05NvFGF/OsbmcvhAyC+ve8IWUezl8lwhayxyC3g6lxOb7M7Y3nCpB+PIeIg7GRue8arvmjI+dhkz/WOwdPLC9tjYRCZsb/RZEofTE7mFDptokpMQ6xRmOlEXcg5z6YDo7XPUUFy7BUuBNN12FnLKPDAj6fzd+ljKhoyxcR+l6EB+weGAkTeteNDYFZvxt0CyioXfyLsxaD5WQsjYjHf216VB05IL22PjPSbk6PMdRwiGdLrp3vP4v25zm32ZWwhuLy8pj5IdcQnBhz4TjOOu7A7nYtoXxRaK2T6ebYMisG3phmDxUiFxy7S9mdtsVly/J+TtWnQo2BFbyXgpkN8HNnAXXz/f4MnqCtmU3iv5iFKBCi+vx9jkkPN5Sg9ti63Lm+bd17pd8mxQn08ppt1b1sMwHI6KDIep8c24auJgKAahauJzIPJ2iit8x7F6jVnrfjGX0+hYkoeS+6gJxbFQwFTgbnYQXJybx8vzlKRdsb1dky4nk9QzcjSeriPj0/7cefnUIMPnJSr43y3+QvR9rP+2xMZjIsgArMkksjlXyHWDnpre2hmtqFDKaJXXEMKp1ISHkZioD52O5alZqwxbf6F9OEGHrS8P2ErSrMnjJztb212BGNEzglLCTsYD+pvl9qvY3khaJPllWuMSGR1av73Ex5IJrmtelSaNadCMYwotxe0TJU94SQl5P6YtjqbCKGl25ChH24G6UwniKVXdni5Tn2c+CJtKtWJ6taYwK+w8t50+Pr6/EesiUXySW4KM6un9MqlfyAwLxBeJsv/LFyXjv+jQybbrNjEtjfROhK0wTeUGzTWPCze5fyBHfJs8ucpRDdb19B0M5eV2xG2usTcIpywLgd9WYVGLWKG2+35btATD1kVSxckjaxellFQFdLwc57JiHwZZ3xE/tCU2IXFcxFbQPDJE1JmvfeaWD01KghffN1efUcT+g46b06MwxATGIPnonee4cig5VqWnv//kxxz32N0mXYyGPDzFkYTk8oqXMuHR9PYCF3xZ9zvea98nORHvXR549RNP8xWxZzlKJnGoGrLVLJAP+PxAMtxZm1uJ01mTblX3WGKhPgDCYwOmBxrtghYbfm4u2Q4IxtJAvyc2Mvjdvn884NRwXWY4Y4HnvvL5x1/ss2gfa9scW3ch3LtCvLw2kp4BJq2d6PIjVVUgNInU5JCKbeoPELWXIgqcLgWmbYQ6+opiuEF96gC743lexwbzZVhQN264wrFcL2pGryqvYEB8XUls8YHUzK24j7G5FchCOvWNFVHBZ1bweXVG0fq3twb+HHi4qyF0xPBS4DY6tgOx/4WOORYYVzfbExjRh6iV4FjADujph9MivhCILgT5r14Df13/7DZWO/Rn99P7WTWMrooZuboXGMT1mriFaKk3Vh/dLqQ9eO7S58u9lDzJWCUWGFn1PiZc8O0uLniz5lWgm7x0tzucDnrzSW8wmskzV6U6GkyKnc583lu0wg3eDUHUblYiqV/oxp+nviujW1+Oe715rzeeVptSXc21J+dJjUlPt+uieueoFbjeZE0Vel3KbRnQhqQ8cSNw+w/bUXn1W+swDeMKg3u5WvcC103fldyvdPu6rgm6zTCsVNZPaVmp3660dzkbjWzCnn5MCLr7tWJ1niTdb1sNI9oAKOnzEHbCdmAKVALsXQ3OaNNRYTutTW8trWVGy21Q8EdiC4ammmzMIgSqX5GV8p9v2FfDng2VXYiQRcPS9wL3U45tLwXuGL8BiD/Ci9VkkVA4+ZwxMse2l0IaIoEeX33VTb7r7X/SiXNs+4hH3Uy0kMSrhHZ9xMOgugBMNsqx7aOKuGNmAzAHQAxfpb1can/l2PaSr7xPRvrL0z3Nlo1ybPupkYw5M/MrbvRO0J2UY9tP/UHa/rYz/yTnHyvHtqf6A0v7VJA3+URqOba9Fcy0m2ij1dkSeyrHtr/Q6k3eRHOAtyqfLAPl2LJQ7R7vkzoOhI5nATDaZAN3L+XYslEQVmeNxmDQWLbqX/Bbjzm2LBUEnxSDVJVjO0jl2A5SObaDVI7tIJVjO0idfzG23X5jOJei96/F9u+72/tDpHsz1idi+/vd7f0hKut+ZeHzsD1/d3t/ii6/0NyMpz1+0TuXqFvN04OfRc14WX89uTYTftNS8gdPspfBfnE2Vxa6fX3a6SW7W+riKl+zZayX40/XS75iy/X/rf8BQ/rgVIRtUc4AAAAASUVORK5CYII=)"
      ],
      "metadata": {
        "id": "nrqXV-8p3cEc"
      }
    },
    {
      "cell_type": "code",
      "execution_count": null,
      "metadata": {
        "id": "uUVYwUxO4lTo",
        "colab": {
          "base_uri": "https://localhost:8080/"
        },
        "outputId": "806b3c99-8a9c-4ff5-c757-d02ec8c56fe0"
      },
      "outputs": [
        {
          "output_type": "stream",
          "name": "stdout",
          "text": [
            "Mounted at /content/drive\n"
          ]
        }
      ],
      "source": [
        "#To connect the notebook to our folder\n",
        "from google.colab import drive\n",
        "drive.mount('/content/drive')"
      ]
    },
    {
      "cell_type": "markdown",
      "source": [
        "### Importing libraries"
      ],
      "metadata": {
        "id": "YFl9LbVR5F5b"
      }
    },
    {
      "cell_type": "code",
      "source": [
        "import numpy as np\n",
        "import pandas as pd\n",
        "import datetime\n",
        "\n",
        "import plotly.express as px"
      ],
      "metadata": {
        "id": "s-1EnGj85L0u"
      },
      "execution_count": null,
      "outputs": []
    },
    {
      "cell_type": "markdown",
      "source": [
        "### Importing dataset"
      ],
      "metadata": {
        "id": "HiMDfuZJ5MZF"
      }
    },
    {
      "cell_type": "markdown",
      "source": [
        "## Context\n",
        "In this exercise, you will be working with a dataset that contains information about the ecological impact of a food product. The objective is to gain a deeper understanding of how our food consumption can affect nature.\n",
        "\n",
        "---\n",
        "## Importing data\n",
        "\n",
        "1- Import the data with pandas\n",
        "\n",
        "2- Download and import Food_Production.csv to colab"
      ],
      "metadata": {
        "id": "NKrrIJaUbl49"
      }
    },
    {
      "cell_type": "markdown",
      "source": [
        "### Dataset Exploration"
      ],
      "metadata": {
        "id": "yDJJm_r25RbZ"
      }
    },
    {
      "cell_type": "markdown",
      "source": [
        "Let's explore the data\n",
        "\n",
        "3- How many lines and columns the dataset has? Use the .shape method."
      ],
      "metadata": {
        "id": "9o_TyKufBJSg"
      }
    },
    {
      "cell_type": "markdown",
      "source": [
        "4- Use the .info() method to get summary of the columns."
      ],
      "metadata": {
        "id": "s_rJ2cRVCfQe"
      }
    },
    {
      "cell_type": "markdown",
      "source": [
        "**5- What information we can find about the dataset?**\n",
        "\n",
        "In the dataset, we can find a variety of information about how our food consumption can impact nature. This includes data on factors such as the water requirements for producing one kilogram of a specific food type. This information is valuable for comparing different foods.\n",
        "\n",
        "However, it's worth noting that there are some Null values present in our dataset. These missing values will need to be addressed during the feature engineering process."
      ],
      "metadata": {
        "id": "HNjFP8FBBljH"
      }
    },
    {
      "cell_type": "markdown",
      "source": [
        "6- Use .describe() method to get statical summary of the columns"
      ],
      "metadata": {
        "id": "DPi7Cv6XCcL1"
      }
    },
    {
      "cell_type": "markdown",
      "source": [
        "**7- What are the first observations we can make about it? (missing values, NaNs, nulls, type)**\n"
      ],
      "metadata": {
        "id": "cNVCRgs9B4Zh"
      }
    },
    {
      "cell_type": "markdown",
      "source": [
        "8- What are the names of the columns of the dataset?"
      ],
      "metadata": {
        "id": "edzB0WrfDH-s"
      }
    },
    {
      "cell_type": "markdown",
      "source": [
        "**Do you think something should be done about it?**\n",
        "\n",
        "The column names in the dataset exhibit inconsistencies, such as the usage of underscores, spaces, missing letters, and excessively long names. It would be beneficial to standardize and normalize the column names to ensure consistency and improve readability."
      ],
      "metadata": {
        "id": "GPflP-kXDSJ-"
      }
    },
    {
      "cell_type": "markdown",
      "source": [
        "### Feature Engineering"
      ],
      "metadata": {
        "id": "25otBCF55XiH"
      }
    },
    {
      "cell_type": "markdown",
      "source": [
        "Now that we have explored the dataset we are going to clean it up so we can work with it!"
      ],
      "metadata": {
        "id": "9wfZSBl2Dxqu"
      }
    },
    {
      "cell_type": "markdown",
      "source": [
        "##### 9- Missing values"
      ],
      "metadata": {
        "id": "s5KGgIG_5dfj"
      }
    },
    {
      "cell_type": "markdown",
      "source": [
        "To replace the missing values, we can proceed with the following choices:\n",
        "\n",
        "*   Note our discoveries and determine if we can have NaN values in the dataset\n",
        "*   Replace missing values with a specific value or simply delete them\n",
        "*   Use wisely the missing data to have as much information as possible\n",
        "\n",
        "\n",
        "In our case, if we decided to delete all the rows that contains NaN value we'll lose too much information in our dataset. **Instead we'll keep all our information and make sure that we only gives non NaN values to our Data Vizualisation.**\n",
        "\n",
        "Let's see how! Our goal is to only keep the rows that have no NaN values in the column \"TestColumn\". To do so, we'll simply select the rows without NaN value by using a mask like this :\n",
        "\n",
        "```\n",
        "dataset_to_use_in_viz = dataset[~np.isnan(dataset[\"TestColumn\"])]\n",
        "```\n",
        "And now we can use dataset_to_use_in_viz freely!\n"
      ],
      "metadata": {
        "id": "L3RgxGaSBaNG"
      }
    },
    {
      "cell_type": "markdown",
      "source": [
        "##### 10- Negatives Values"
      ],
      "metadata": {
        "id": "R5D3V7oK5mFA"
      }
    },
    {
      "cell_type": "markdown",
      "source": [
        "Lately, many plantations/activities have been replaced by grasslands, abandoned pastures or just changed."
      ],
      "metadata": {
        "id": "Hts1SsOLEmqW"
      }
    },
    {
      "cell_type": "markdown",
      "source": [
        "To replace the negatives values we can proceed with following choices:\n",
        "\n",
        "*   Note our discoveries and provide scientific evidence regarding why they can be relevant\n",
        "*   Replace all negative values with a chosen value, or delete them\n",
        "\n",
        "To find out which are the negative values that belong to the numeric types we are going to use the method `select_dtypes`, which allows us to select only the data that belongs to the type we specify. For more information use this [link](https://pandas.pydata.org/docs/reference/api/pandas.DataFrame.select_dtypes.html).\n",
        "\n",
        "**11- Write a code that will give you the number of negative values in the dataset.**"
      ],
      "metadata": {
        "id": "eHASYcwLE0B7"
      }
    },
    {
      "cell_type": "markdown",
      "source": [
        "**12- In which dataset are these negative value ?**"
      ],
      "metadata": {
        "id": "o_njhgjxTFoZ"
      }
    },
    {
      "cell_type": "markdown",
      "source": [
        "**13- Replace the negative values with 0 and make sure that you do not have any negative values anymore.**"
      ],
      "metadata": {
        "id": "UQvJ7a-5Tkvw"
      }
    },
    {
      "cell_type": "markdown",
      "source": [
        "The column names in the dataset are quite inconsistent (some use underscores, other spaces, there are letters missing, etc.) and some columns have long names.\n",
        "\n",
        "14- Rename all the columns with n uniform format. To do that, check the columns actual names by using the method `.columns` and then rename them by using `.rename()`\n"
      ],
      "metadata": {
        "id": "eFk_q2ipEYDa"
      }
    },
    {
      "cell_type": "markdown",
      "source": [
        "#### Data Transformation"
      ],
      "metadata": {
        "id": "_erU2yJu50vL"
      }
    },
    {
      "cell_type": "markdown",
      "source": [
        "##### **Create a \"Category\" column to cluster the different types of food products**"
      ],
      "metadata": {
        "id": "gpFpteWhD5jH"
      }
    },
    {
      "cell_type": "markdown",
      "source": [
        "**14- Given the following lists, write some code that will assign the correct category to each products.**\n",
        "\n",
        "\n",
        "\n",
        "```\n",
        "Grains = [\"Wheat & Rye (Bread)\", \"Maize (Meal)\", \"Oatmeal\", \"Barley (Beer)\", \"Rice\"]\n",
        "Nuts = ['Nuts', 'Groundnuts']\n",
        "Vegetables = [\"Potatoes\", \"Cassava\", 'Other Pulses',\"Peas\",'Tomatoes', 'Onions & Leeks','Root Vegetables',\"Brassicas\",'Other Vegetables']\n",
        "Fruits = ['Citrus Fruit', 'Bananas','Apples', 'Berries & Grapes', 'Other Fruit']\n",
        "Sugars = ['Cane Sugar', 'Beet Sugar',]\n",
        "Oils = ['Soybean Oil', 'Palm Oil', 'Sunflower Oil', 'Rapeseed Oil', 'Olive Oil']\n",
        "Dairy = [\"Soymilk\",'Milk', 'Cheese']\n",
        "Animal_Prod = ['Beef (beef herd)', 'Beef (dairy herd)','Lamb & Mutton', 'Pig Meat', 'Poultry Meat', 'Eggs', 'Fish (farmed)', 'Shrimps (farmed)']\n",
        "Other = [\"Tofu\", \"Coffee\", \"Dark Chocolate\", \"Wine\"]\n",
        "```\n",
        "\n"
      ],
      "metadata": {
        "id": "DJOCUoUbT__T"
      }
    },
    {
      "cell_type": "markdown",
      "source": [
        "**15- Check how many values you have for each category.**"
      ],
      "metadata": {
        "id": "IycNNB4VUd4v"
      }
    },
    {
      "cell_type": "markdown",
      "source": [
        "### Data Visualization"
      ],
      "metadata": {
        "id": "etQ47-Iq5_L9"
      }
    },
    {
      "cell_type": "markdown",
      "source": [
        "#### Greenhouse emissions"
      ],
      "metadata": {
        "id": "VOyotn1-8gm4"
      }
    },
    {
      "cell_type": "markdown",
      "source": [
        "**16- Plot the Average Total emission by category using scatter plot**"
      ],
      "metadata": {
        "id": "vHODRW5XOvS2"
      }
    },
    {
      "cell_type": "markdown",
      "source": [
        "#### Total emissions by food product\n",
        "\n",
        "**17- Plot the Total emission by food product using a bar plot**\n"
      ],
      "metadata": {
        "id": "7SR4_JBc6ctE"
      }
    },
    {
      "cell_type": "markdown",
      "source": [
        "**18- Which types of food have more negative impact on the environment? What conclusions can youd draw?**\n"
      ],
      "metadata": {
        "id": "lvJC_N7G7o1E"
      }
    },
    {
      "cell_type": "markdown",
      "source": [
        "#### Total emissions by product category\n",
        "\n",
        "**19- Plot the SUM of Total emission by Category using a bar plot**\n",
        "\n"
      ],
      "metadata": {
        "id": "7FYCyNSw68Iv"
      }
    },
    {
      "cell_type": "markdown",
      "source": [
        "**20- Plot the SUM of Total emission by Category using a pie chart**\n"
      ],
      "metadata": {
        "id": "7cnCNsmgWR9u"
      }
    },
    {
      "cell_type": "markdown",
      "source": [
        "#### 21- Which stage of food production contributes more to greenhouse gas emission?"
      ],
      "metadata": {
        "id": "dTIcK_Dz7O1D"
      }
    },
    {
      "cell_type": "markdown",
      "source": [
        "**22- Plot the Total emission by supply chain using a bar chart**\n",
        "\n",
        "Stages of supply chain:\n",
        "1. Land usage\n",
        "2. Farm\n",
        "3. Animal Feed\n",
        "4. Processing\n",
        "5. Transport\n",
        "6. Retail\n",
        "7. Packaging"
      ],
      "metadata": {
        "id": "7LiwsmONYCXb"
      }
    },
    {
      "cell_type": "markdown",
      "source": [
        "**23- Plot the Total emissions by Food Product using a bar plot. Add the Supply chain as color.**\n"
      ],
      "metadata": {
        "id": "fw9vh97EWSNu"
      }
    },
    {
      "cell_type": "markdown",
      "source": [
        "**24- Plot the Total emissions by Food Product using a bar plot. Add the Category as color.**"
      ],
      "metadata": {
        "id": "GWQ1v04BXECV"
      }
    },
    {
      "cell_type": "markdown",
      "source": [
        "**25- How can we promote sustainable and nutritious food production?**\n",
        "\n"
      ],
      "metadata": {
        "id": "b52nX-re7r4j"
      }
    },
    {
      "cell_type": "markdown",
      "source": [
        "**26- Plot a bar chart that displays the land used to produce 1 Kg of Food**\n",
        "\n",
        "Be careful here! You might face some issues while working with NaN values. Make sure to follow the steps explained earlier!"
      ],
      "metadata": {
        "id": "Cx7lLyrZ8Vjh"
      }
    },
    {
      "cell_type": "markdown",
      "source": [
        "**27- Plot a bar chart that displays the land used to produce 1000kcal for every food product**\n"
      ],
      "metadata": {
        "id": "lLMNrE_wbMLd"
      }
    },
    {
      "cell_type": "markdown",
      "source": [
        "**28- Plot a bar chart that displays the water used to produce 1000kcal for every food product**\n"
      ],
      "metadata": {
        "id": "G6wAOsLJc7Md"
      }
    },
    {
      "cell_type": "markdown",
      "source": [
        "**29- Plot a bar chart that displays the water used to produce 1Kg for every food product**"
      ],
      "metadata": {
        "id": "jBDCpiF68Zko"
      }
    },
    {
      "cell_type": "markdown",
      "source": [
        "#### Heatmap to check the relation among different attributes of foods"
      ],
      "metadata": {
        "id": "TJiKK9PiqHpi"
      }
    },
    {
      "cell_type": "markdown",
      "source": [
        "### Conclusion"
      ],
      "metadata": {
        "id": "wYyDQQyvfQT9"
      }
    },
    {
      "cell_type": "markdown",
      "source": [
        "**30- What can be the strategy to reduce greenhouse gas emissions regarding our food consumption?**\n",
        "\n",
        "\n"
      ],
      "metadata": {
        "id": "iwfbdl1-9L5u"
      }
    }
  ]
}